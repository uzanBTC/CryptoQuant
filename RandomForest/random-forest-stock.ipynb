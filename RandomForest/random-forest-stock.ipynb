{
 "cells": [
  {
   "cell_type": "code",
   "execution_count": 3,
   "metadata": {
    "collapsed": true
   },
   "outputs": [],
   "source": [
    "import os\n",
    "import sys\n",
    "import requests\n",
    "\n",
    "import numpy as np\n",
    "import pandas as pd\n",
    "import matplotlib.pyplot as plt\n",
    "\n",
    "from sklearn.ensemble import RandomForestClassifier\n",
    "from sklearn.model_selection import train_test_split\n",
    "from sklearn.model_selection import RandomizedSearchCV\n",
    "from sklearn.metrics import RocCurveDisplay\n",
    "from sklearn.metrics import accuracy_score, classification_report\n",
    "\n",
    "from config import ACCOUNT_NUMBER, ACCOUNT_PASSWORD, CONSUMER_ID, REDIRECT_URI\n"
   ]
  },
  {
   "cell_type": "code",
   "execution_count": 4,
   "outputs": [
    {
     "name": "stdout",
     "output_type": "stream",
     "text": [
      "本接口即将停止更新，请尽快使用Pro版接口：https://tushare.pro/document/2\n"
     ]
    }
   ],
   "source": [
    "import tushare as ts\n",
    "\n",
    "def grab_price_data():\n",
    "    df = ts.get_k_data('sh', autype='qfq', start='2010-01-01', end='2020-07-17')\n",
    "    df.index = pd.to_datetime(df.date)\n",
    "    df = df[['open', 'high', 'low', 'close', 'volume']]\n",
    "    df.to_csv('../data/price_data.csv',index_label=False)\n",
    "\n",
    "grab_price_data()\n"
   ],
   "metadata": {
    "collapsed": false,
    "pycharm": {
     "name": "#%%\n"
    }
   }
  },
  {
   "cell_type": "code",
   "execution_count": 4,
   "outputs": [
    {
     "data": {
      "text/plain": "                open     high      low     close       volume\n2010-01-04  3289.750  3295.28  3243.32  3243.760  109447927.0\n2010-01-05  3254.468  3290.51  3221.46  3282.179  126115066.0\n2010-01-06  3277.517  3295.87  3253.04  3254.215  123651384.0\n2010-01-07  3253.991  3268.82  3176.71  3192.776  128652827.0\n2010-01-08  3177.259  3198.92  3149.02  3195.997   98377147.0",
      "text/html": "<div>\n<style scoped>\n    .dataframe tbody tr th:only-of-type {\n        vertical-align: middle;\n    }\n\n    .dataframe tbody tr th {\n        vertical-align: top;\n    }\n\n    .dataframe thead th {\n        text-align: right;\n    }\n</style>\n<table border=\"1\" class=\"dataframe\">\n  <thead>\n    <tr style=\"text-align: right;\">\n      <th></th>\n      <th>open</th>\n      <th>high</th>\n      <th>low</th>\n      <th>close</th>\n      <th>volume</th>\n    </tr>\n  </thead>\n  <tbody>\n    <tr>\n      <th>2010-01-04</th>\n      <td>3289.750</td>\n      <td>3295.28</td>\n      <td>3243.32</td>\n      <td>3243.760</td>\n      <td>109447927.0</td>\n    </tr>\n    <tr>\n      <th>2010-01-05</th>\n      <td>3254.468</td>\n      <td>3290.51</td>\n      <td>3221.46</td>\n      <td>3282.179</td>\n      <td>126115066.0</td>\n    </tr>\n    <tr>\n      <th>2010-01-06</th>\n      <td>3277.517</td>\n      <td>3295.87</td>\n      <td>3253.04</td>\n      <td>3254.215</td>\n      <td>123651384.0</td>\n    </tr>\n    <tr>\n      <th>2010-01-07</th>\n      <td>3253.991</td>\n      <td>3268.82</td>\n      <td>3176.71</td>\n      <td>3192.776</td>\n      <td>128652827.0</td>\n    </tr>\n    <tr>\n      <th>2010-01-08</th>\n      <td>3177.259</td>\n      <td>3198.92</td>\n      <td>3149.02</td>\n      <td>3195.997</td>\n      <td>98377147.0</td>\n    </tr>\n  </tbody>\n</table>\n</div>"
     },
     "execution_count": 4,
     "metadata": {},
     "output_type": "execute_result"
    }
   ],
   "source": [
    "price_data=pd.read_csv(\"../data/price_data.csv\")\n",
    "\n",
    "price_data.head()\n"
   ],
   "metadata": {
    "collapsed": false,
    "pycharm": {
     "name": "#%%\n"
    }
   }
  },
  {
   "cell_type": "code",
   "execution_count": 8,
   "outputs": [
    {
     "data": {
      "text/plain": "2010-01-04        NaN\n2010-01-05     38.419\n2010-01-06    -27.964\n2010-01-07    -61.439\n2010-01-08      3.221\n               ...   \n2020-07-13     59.970\n2020-07-14    -28.670\n2020-07-15    -53.320\n2020-07-16   -151.200\n2020-07-17      4.030\nName: change_in_price, Length: 2561, dtype: float64"
     },
     "execution_count": 8,
     "metadata": {},
     "output_type": "execute_result"
    }
   ],
   "source": [
    "'''\n",
    "calculate change in price\n",
    "'''\n",
    "price_data['change_in_price'] = price_data['close'].diff()\n",
    "price_data['change_in_price']\n",
    "\n",
    "\n"
   ],
   "metadata": {
    "collapsed": false,
    "pycharm": {
     "name": "#%%\n"
    }
   }
  },
  {
   "cell_type": "code",
   "execution_count": 25,
   "outputs": [
    {
     "data": {
      "text/plain": "                open     high      low     close       volume  \\\n2010-01-04  3289.750  3295.28  3243.32  3243.760  109447927.0   \n2010-01-05  3254.468  3290.51  3221.46  3282.179  126115066.0   \n2010-01-06  3277.517  3295.87  3253.04  3254.215  123651384.0   \n2010-01-07  3253.991  3268.82  3176.71  3192.776  128652827.0   \n2010-01-08  3177.259  3198.92  3149.02  3195.997   98377147.0   \n2010-01-11  3301.611  3306.75  3197.33  3212.750  136327216.0   \n2010-01-12  3205.705  3275.20  3180.09  3273.966  140655241.0   \n2010-01-13  3204.976  3232.82  3165.49  3172.658  158344278.0   \n2010-01-14  3183.381  3219.02  3165.60  3215.550  135954504.0   \n2010-01-15  3217.190  3241.82  3197.22  3224.152  120541135.0   \n2010-01-18  3213.637  3238.24  3202.21  3237.098  135067238.0   \n2010-01-19  3242.216  3268.81  3236.84  3246.874  129943532.0   \n2010-01-20  3252.037  3255.13  3148.33  3151.850  158243112.0   \n2010-01-21  3154.189  3176.15  3126.90  3158.863  114337079.0   \n2010-01-22  3118.724  3147.83  3062.63  3128.588  137758538.0   \n2010-01-25  3103.320  3137.00  3092.93  3094.411   78361862.0   \n2010-01-26  3094.848  3107.20  3001.96  3019.394   93507092.0   \n2010-01-27  3020.540  3028.65  2972.63  2986.607   76552214.0   \n2010-01-28  2985.214  3006.04  2963.89  2994.143   73365767.0   \n2010-01-29  2979.743  3024.85  2968.45  2989.292   80475875.0   \n2010-02-01  2981.374  2981.37  2912.89  2941.360   88147114.0   \n2010-02-02  2955.753  2990.75  2930.56  2934.713   82485789.0   \n2010-02-03  2945.034  3005.13  2890.02  3003.835  101022537.0   \n2010-02-04  2983.050  3015.13  2968.68  2995.308   99918364.0   \n2010-02-05  2936.197  2959.23  2918.91  2939.402   97274989.0   \n2010-02-08  2936.452  2954.27  2922.19  2935.174   63299582.0   \n2010-02-09  2932.090  2957.47  2929.21  2948.842   62282207.0   \n2010-02-10  2967.138  2983.18  2958.22  2982.500   55588005.0   \n2010-02-11  2985.082  3001.64  2976.08  2985.499   56646305.0   \n2010-02-12  2996.088  3018.86  2993.44  3018.133   56092124.0   \n\n            change_in_price  down_days  up_days         RSI  \n2010-01-04            0.000      0.000    0.000         NaN  \n2010-01-05           38.419      0.000   38.419  100.000000  \n2010-01-06          -27.964     27.964    0.000   54.352290  \n2010-01-07          -61.439     61.439    0.000   25.195655  \n2010-01-08            3.221      0.000    3.221   27.546759  \n2010-01-11           16.753      0.000   16.753   39.044393  \n2010-01-12           61.216      0.000   61.216   63.479277  \n2010-01-13         -101.308    101.308    0.000   35.956196  \n2010-01-14           42.892      0.000   42.892   47.150273  \n2010-01-15            8.602      0.000    8.602   49.204768  \n2010-01-18           12.946      0.000   12.946   52.416941  \n2010-01-19            9.776      0.000    9.776   54.901837  \n2010-01-20          -95.024     95.024    0.000   34.623072  \n2010-01-21            7.013      0.000    7.013   36.616716  \n2010-01-22          -30.275     30.275    0.000   31.788164  \n2010-01-25          -34.177     34.177    0.000   27.128441  \n2010-01-26          -75.017     75.017    0.000   19.783708  \n2010-01-27          -32.787     32.787    0.000   17.407052  \n2010-01-28            7.536      0.000    7.536   19.957215  \n2010-01-29           -4.851      4.851    0.000   19.509795  \n2010-02-01          -47.932     47.932    0.000   15.538244  \n2010-02-02           -6.647      6.647    0.000   15.048085  \n2010-02-03           69.122      0.000   69.122   38.373944  \n2010-02-04           -8.527      8.527    0.000   36.930572  \n2010-02-05          -55.906     55.906    0.000   28.749909  \n2010-02-08           -4.228      4.228    0.000   28.204718  \n2010-02-09           13.668      0.000   13.668   32.947622  \n2010-02-10           33.658      0.000   33.658   43.544663  \n2010-02-11            2.999      0.000    2.999   44.447297  \n2010-02-12           32.634      0.000   32.634   53.734870  ",
      "text/html": "<div>\n<style scoped>\n    .dataframe tbody tr th:only-of-type {\n        vertical-align: middle;\n    }\n\n    .dataframe tbody tr th {\n        vertical-align: top;\n    }\n\n    .dataframe thead th {\n        text-align: right;\n    }\n</style>\n<table border=\"1\" class=\"dataframe\">\n  <thead>\n    <tr style=\"text-align: right;\">\n      <th></th>\n      <th>open</th>\n      <th>high</th>\n      <th>low</th>\n      <th>close</th>\n      <th>volume</th>\n      <th>change_in_price</th>\n      <th>down_days</th>\n      <th>up_days</th>\n      <th>RSI</th>\n    </tr>\n  </thead>\n  <tbody>\n    <tr>\n      <th>2010-01-04</th>\n      <td>3289.750</td>\n      <td>3295.28</td>\n      <td>3243.32</td>\n      <td>3243.760</td>\n      <td>109447927.0</td>\n      <td>0.000</td>\n      <td>0.000</td>\n      <td>0.000</td>\n      <td>NaN</td>\n    </tr>\n    <tr>\n      <th>2010-01-05</th>\n      <td>3254.468</td>\n      <td>3290.51</td>\n      <td>3221.46</td>\n      <td>3282.179</td>\n      <td>126115066.0</td>\n      <td>38.419</td>\n      <td>0.000</td>\n      <td>38.419</td>\n      <td>100.000000</td>\n    </tr>\n    <tr>\n      <th>2010-01-06</th>\n      <td>3277.517</td>\n      <td>3295.87</td>\n      <td>3253.04</td>\n      <td>3254.215</td>\n      <td>123651384.0</td>\n      <td>-27.964</td>\n      <td>27.964</td>\n      <td>0.000</td>\n      <td>54.352290</td>\n    </tr>\n    <tr>\n      <th>2010-01-07</th>\n      <td>3253.991</td>\n      <td>3268.82</td>\n      <td>3176.71</td>\n      <td>3192.776</td>\n      <td>128652827.0</td>\n      <td>-61.439</td>\n      <td>61.439</td>\n      <td>0.000</td>\n      <td>25.195655</td>\n    </tr>\n    <tr>\n      <th>2010-01-08</th>\n      <td>3177.259</td>\n      <td>3198.92</td>\n      <td>3149.02</td>\n      <td>3195.997</td>\n      <td>98377147.0</td>\n      <td>3.221</td>\n      <td>0.000</td>\n      <td>3.221</td>\n      <td>27.546759</td>\n    </tr>\n    <tr>\n      <th>2010-01-11</th>\n      <td>3301.611</td>\n      <td>3306.75</td>\n      <td>3197.33</td>\n      <td>3212.750</td>\n      <td>136327216.0</td>\n      <td>16.753</td>\n      <td>0.000</td>\n      <td>16.753</td>\n      <td>39.044393</td>\n    </tr>\n    <tr>\n      <th>2010-01-12</th>\n      <td>3205.705</td>\n      <td>3275.20</td>\n      <td>3180.09</td>\n      <td>3273.966</td>\n      <td>140655241.0</td>\n      <td>61.216</td>\n      <td>0.000</td>\n      <td>61.216</td>\n      <td>63.479277</td>\n    </tr>\n    <tr>\n      <th>2010-01-13</th>\n      <td>3204.976</td>\n      <td>3232.82</td>\n      <td>3165.49</td>\n      <td>3172.658</td>\n      <td>158344278.0</td>\n      <td>-101.308</td>\n      <td>101.308</td>\n      <td>0.000</td>\n      <td>35.956196</td>\n    </tr>\n    <tr>\n      <th>2010-01-14</th>\n      <td>3183.381</td>\n      <td>3219.02</td>\n      <td>3165.60</td>\n      <td>3215.550</td>\n      <td>135954504.0</td>\n      <td>42.892</td>\n      <td>0.000</td>\n      <td>42.892</td>\n      <td>47.150273</td>\n    </tr>\n    <tr>\n      <th>2010-01-15</th>\n      <td>3217.190</td>\n      <td>3241.82</td>\n      <td>3197.22</td>\n      <td>3224.152</td>\n      <td>120541135.0</td>\n      <td>8.602</td>\n      <td>0.000</td>\n      <td>8.602</td>\n      <td>49.204768</td>\n    </tr>\n    <tr>\n      <th>2010-01-18</th>\n      <td>3213.637</td>\n      <td>3238.24</td>\n      <td>3202.21</td>\n      <td>3237.098</td>\n      <td>135067238.0</td>\n      <td>12.946</td>\n      <td>0.000</td>\n      <td>12.946</td>\n      <td>52.416941</td>\n    </tr>\n    <tr>\n      <th>2010-01-19</th>\n      <td>3242.216</td>\n      <td>3268.81</td>\n      <td>3236.84</td>\n      <td>3246.874</td>\n      <td>129943532.0</td>\n      <td>9.776</td>\n      <td>0.000</td>\n      <td>9.776</td>\n      <td>54.901837</td>\n    </tr>\n    <tr>\n      <th>2010-01-20</th>\n      <td>3252.037</td>\n      <td>3255.13</td>\n      <td>3148.33</td>\n      <td>3151.850</td>\n      <td>158243112.0</td>\n      <td>-95.024</td>\n      <td>95.024</td>\n      <td>0.000</td>\n      <td>34.623072</td>\n    </tr>\n    <tr>\n      <th>2010-01-21</th>\n      <td>3154.189</td>\n      <td>3176.15</td>\n      <td>3126.90</td>\n      <td>3158.863</td>\n      <td>114337079.0</td>\n      <td>7.013</td>\n      <td>0.000</td>\n      <td>7.013</td>\n      <td>36.616716</td>\n    </tr>\n    <tr>\n      <th>2010-01-22</th>\n      <td>3118.724</td>\n      <td>3147.83</td>\n      <td>3062.63</td>\n      <td>3128.588</td>\n      <td>137758538.0</td>\n      <td>-30.275</td>\n      <td>30.275</td>\n      <td>0.000</td>\n      <td>31.788164</td>\n    </tr>\n    <tr>\n      <th>2010-01-25</th>\n      <td>3103.320</td>\n      <td>3137.00</td>\n      <td>3092.93</td>\n      <td>3094.411</td>\n      <td>78361862.0</td>\n      <td>-34.177</td>\n      <td>34.177</td>\n      <td>0.000</td>\n      <td>27.128441</td>\n    </tr>\n    <tr>\n      <th>2010-01-26</th>\n      <td>3094.848</td>\n      <td>3107.20</td>\n      <td>3001.96</td>\n      <td>3019.394</td>\n      <td>93507092.0</td>\n      <td>-75.017</td>\n      <td>75.017</td>\n      <td>0.000</td>\n      <td>19.783708</td>\n    </tr>\n    <tr>\n      <th>2010-01-27</th>\n      <td>3020.540</td>\n      <td>3028.65</td>\n      <td>2972.63</td>\n      <td>2986.607</td>\n      <td>76552214.0</td>\n      <td>-32.787</td>\n      <td>32.787</td>\n      <td>0.000</td>\n      <td>17.407052</td>\n    </tr>\n    <tr>\n      <th>2010-01-28</th>\n      <td>2985.214</td>\n      <td>3006.04</td>\n      <td>2963.89</td>\n      <td>2994.143</td>\n      <td>73365767.0</td>\n      <td>7.536</td>\n      <td>0.000</td>\n      <td>7.536</td>\n      <td>19.957215</td>\n    </tr>\n    <tr>\n      <th>2010-01-29</th>\n      <td>2979.743</td>\n      <td>3024.85</td>\n      <td>2968.45</td>\n      <td>2989.292</td>\n      <td>80475875.0</td>\n      <td>-4.851</td>\n      <td>4.851</td>\n      <td>0.000</td>\n      <td>19.509795</td>\n    </tr>\n    <tr>\n      <th>2010-02-01</th>\n      <td>2981.374</td>\n      <td>2981.37</td>\n      <td>2912.89</td>\n      <td>2941.360</td>\n      <td>88147114.0</td>\n      <td>-47.932</td>\n      <td>47.932</td>\n      <td>0.000</td>\n      <td>15.538244</td>\n    </tr>\n    <tr>\n      <th>2010-02-02</th>\n      <td>2955.753</td>\n      <td>2990.75</td>\n      <td>2930.56</td>\n      <td>2934.713</td>\n      <td>82485789.0</td>\n      <td>-6.647</td>\n      <td>6.647</td>\n      <td>0.000</td>\n      <td>15.048085</td>\n    </tr>\n    <tr>\n      <th>2010-02-03</th>\n      <td>2945.034</td>\n      <td>3005.13</td>\n      <td>2890.02</td>\n      <td>3003.835</td>\n      <td>101022537.0</td>\n      <td>69.122</td>\n      <td>0.000</td>\n      <td>69.122</td>\n      <td>38.373944</td>\n    </tr>\n    <tr>\n      <th>2010-02-04</th>\n      <td>2983.050</td>\n      <td>3015.13</td>\n      <td>2968.68</td>\n      <td>2995.308</td>\n      <td>99918364.0</td>\n      <td>-8.527</td>\n      <td>8.527</td>\n      <td>0.000</td>\n      <td>36.930572</td>\n    </tr>\n    <tr>\n      <th>2010-02-05</th>\n      <td>2936.197</td>\n      <td>2959.23</td>\n      <td>2918.91</td>\n      <td>2939.402</td>\n      <td>97274989.0</td>\n      <td>-55.906</td>\n      <td>55.906</td>\n      <td>0.000</td>\n      <td>28.749909</td>\n    </tr>\n    <tr>\n      <th>2010-02-08</th>\n      <td>2936.452</td>\n      <td>2954.27</td>\n      <td>2922.19</td>\n      <td>2935.174</td>\n      <td>63299582.0</td>\n      <td>-4.228</td>\n      <td>4.228</td>\n      <td>0.000</td>\n      <td>28.204718</td>\n    </tr>\n    <tr>\n      <th>2010-02-09</th>\n      <td>2932.090</td>\n      <td>2957.47</td>\n      <td>2929.21</td>\n      <td>2948.842</td>\n      <td>62282207.0</td>\n      <td>13.668</td>\n      <td>0.000</td>\n      <td>13.668</td>\n      <td>32.947622</td>\n    </tr>\n    <tr>\n      <th>2010-02-10</th>\n      <td>2967.138</td>\n      <td>2983.18</td>\n      <td>2958.22</td>\n      <td>2982.500</td>\n      <td>55588005.0</td>\n      <td>33.658</td>\n      <td>0.000</td>\n      <td>33.658</td>\n      <td>43.544663</td>\n    </tr>\n    <tr>\n      <th>2010-02-11</th>\n      <td>2985.082</td>\n      <td>3001.64</td>\n      <td>2976.08</td>\n      <td>2985.499</td>\n      <td>56646305.0</td>\n      <td>2.999</td>\n      <td>0.000</td>\n      <td>2.999</td>\n      <td>44.447297</td>\n    </tr>\n    <tr>\n      <th>2010-02-12</th>\n      <td>2996.088</td>\n      <td>3018.86</td>\n      <td>2993.44</td>\n      <td>3018.133</td>\n      <td>56092124.0</td>\n      <td>32.634</td>\n      <td>0.000</td>\n      <td>32.634</td>\n      <td>53.734870</td>\n    </tr>\n  </tbody>\n</table>\n</div>"
     },
     "execution_count": 25,
     "metadata": {},
     "output_type": "execute_result"
    }
   ],
   "source": [
    "# calculate the 14 day RSI\n",
    "n=14\n",
    "price_data.loc[\"2010-01-04\",'change_in_price']=0\n",
    "up_df, down_df=price_data[['change_in_price']].copy(), price_data[['change_in_price']].copy()\n",
    "\n",
    "# For up days, if the change is less than 0 set to 0\n",
    "up_df.loc['change_in_price']=up_df.loc[(up_df['change_in_price']<0),'change_in_price']=0\n",
    "\n",
    "# For down days, if the change is greater than 0 than set to 0.\n",
    "down_df.loc['change_in_price'] = down_df.loc[(down_df['change_in_price']>0),'change_in_price']=0\n",
    "\n",
    "# We need change in price to be absolute\n",
    "down_df['change_in_price']=down_df['change_in_price'].abs()\n",
    "\n",
    "#calculate the EMA\n",
    "ema_up=up_df['change_in_price'].transform(lambda x: x.ewm(span=n).mean())\n",
    "ema_down=down_df['change_in_price'].transform(lambda x: x.ewm(span=n).mean())\n",
    "\n",
    "# Calculate the relative strength\n",
    "relative_strength=ema_up/ema_down\n",
    "\n",
    "# Calculate the Relative index\n",
    "relative_strength_index=100.0-(100.0/(1.0+relative_strength))\n",
    "\n",
    "# Add the info to the data frame\n",
    "price_data['down_days'] = down_df['change_in_price']\n",
    "price_data['up_days']=up_df['change_in_price']\n",
    "price_data['RSI']=relative_strength_index\n",
    "\n",
    "price_data.head(30)"
   ],
   "metadata": {
    "collapsed": false,
    "pycharm": {
     "name": "#%%\n"
    }
   }
  },
  {
   "cell_type": "code",
   "execution_count": 5,
   "outputs": [
    {
     "data": {
      "text/plain": "                open     high      low     close       volume   low_14  \\\n2010-01-04  3289.750  3295.28  3243.32  3243.760  109447927.0      NaN   \n2010-01-05  3254.468  3290.51  3221.46  3282.179  126115066.0      NaN   \n2010-01-06  3277.517  3295.87  3253.04  3254.215  123651384.0      NaN   \n2010-01-07  3253.991  3268.82  3176.71  3192.776  128652827.0      NaN   \n2010-01-08  3177.259  3198.92  3149.02  3195.997   98377147.0      NaN   \n2010-01-11  3301.611  3306.75  3197.33  3212.750  136327216.0      NaN   \n2010-01-12  3205.705  3275.20  3180.09  3273.966  140655241.0      NaN   \n2010-01-13  3204.976  3232.82  3165.49  3172.658  158344278.0      NaN   \n2010-01-14  3183.381  3219.02  3165.60  3215.550  135954504.0      NaN   \n2010-01-15  3217.190  3241.82  3197.22  3224.152  120541135.0      NaN   \n2010-01-18  3213.637  3238.24  3202.21  3237.098  135067238.0      NaN   \n2010-01-19  3242.216  3268.81  3236.84  3246.874  129943532.0      NaN   \n2010-01-20  3252.037  3255.13  3148.33  3151.850  158243112.0      NaN   \n2010-01-21  3154.189  3176.15  3126.90  3158.863  114337079.0  3126.90   \n2010-01-22  3118.724  3147.83  3062.63  3128.588  137758538.0  3062.63   \n2010-01-25  3103.320  3137.00  3092.93  3094.411   78361862.0  3062.63   \n2010-01-26  3094.848  3107.20  3001.96  3019.394   93507092.0  3001.96   \n2010-01-27  3020.540  3028.65  2972.63  2986.607   76552214.0  2972.63   \n2010-01-28  2985.214  3006.04  2963.89  2994.143   73365767.0  2963.89   \n2010-01-29  2979.743  3024.85  2968.45  2989.292   80475875.0  2963.89   \n2010-02-01  2981.374  2981.37  2912.89  2941.360   88147114.0  2912.89   \n2010-02-02  2955.753  2990.75  2930.56  2934.713   82485789.0  2912.89   \n2010-02-03  2945.034  3005.13  2890.02  3003.835  101022537.0  2890.02   \n2010-02-04  2983.050  3015.13  2968.68  2995.308   99918364.0  2890.02   \n2010-02-05  2936.197  2959.23  2918.91  2939.402   97274989.0  2890.02   \n2010-02-08  2936.452  2954.27  2922.19  2935.174   63299582.0  2890.02   \n2010-02-09  2932.090  2957.47  2929.21  2948.842   62282207.0  2890.02   \n2010-02-10  2967.138  2983.18  2958.22  2982.500   55588005.0  2890.02   \n2010-02-11  2985.082  3001.64  2976.08  2985.499   56646305.0  2890.02   \n2010-02-12  2996.088  3018.86  2993.44  3018.133   56092124.0  2890.02   \n\n            high_14  k_percent  \n2010-01-04      NaN        NaN  \n2010-01-05      NaN        NaN  \n2010-01-06      NaN        NaN  \n2010-01-07      NaN        NaN  \n2010-01-08      NaN        NaN  \n2010-01-11      NaN        NaN  \n2010-01-12      NaN        NaN  \n2010-01-13      NaN        NaN  \n2010-01-14      NaN        NaN  \n2010-01-15      NaN        NaN  \n2010-01-18      NaN        NaN  \n2010-01-19      NaN        NaN  \n2010-01-20      NaN        NaN  \n2010-01-21  3306.75  17.772032  \n2010-01-22  3306.75  27.018679  \n2010-01-25  3306.75  13.018597  \n2010-01-26  3306.75   5.720004  \n2010-01-27  3306.75   4.183228  \n2010-01-28  3306.75   8.823718  \n2010-01-29  3275.20   8.159712  \n2010-02-01  3268.81   7.998989  \n2010-02-02  3268.81   6.131434  \n2010-02-03  3268.81  30.046992  \n2010-02-04  3268.81  27.795876  \n2010-02-05  3268.81  13.036775  \n2010-02-08  3255.13  12.367232  \n2010-02-09  3176.15  20.557788  \n2010-02-10  3147.83  35.871378  \n2010-02-11  3137.00  38.658596  \n2010-02-12  3107.20  58.989318  ",
      "text/html": "<div>\n<style scoped>\n    .dataframe tbody tr th:only-of-type {\n        vertical-align: middle;\n    }\n\n    .dataframe tbody tr th {\n        vertical-align: top;\n    }\n\n    .dataframe thead th {\n        text-align: right;\n    }\n</style>\n<table border=\"1\" class=\"dataframe\">\n  <thead>\n    <tr style=\"text-align: right;\">\n      <th></th>\n      <th>open</th>\n      <th>high</th>\n      <th>low</th>\n      <th>close</th>\n      <th>volume</th>\n      <th>low_14</th>\n      <th>high_14</th>\n      <th>k_percent</th>\n    </tr>\n  </thead>\n  <tbody>\n    <tr>\n      <th>2010-01-04</th>\n      <td>3289.750</td>\n      <td>3295.28</td>\n      <td>3243.32</td>\n      <td>3243.760</td>\n      <td>109447927.0</td>\n      <td>NaN</td>\n      <td>NaN</td>\n      <td>NaN</td>\n    </tr>\n    <tr>\n      <th>2010-01-05</th>\n      <td>3254.468</td>\n      <td>3290.51</td>\n      <td>3221.46</td>\n      <td>3282.179</td>\n      <td>126115066.0</td>\n      <td>NaN</td>\n      <td>NaN</td>\n      <td>NaN</td>\n    </tr>\n    <tr>\n      <th>2010-01-06</th>\n      <td>3277.517</td>\n      <td>3295.87</td>\n      <td>3253.04</td>\n      <td>3254.215</td>\n      <td>123651384.0</td>\n      <td>NaN</td>\n      <td>NaN</td>\n      <td>NaN</td>\n    </tr>\n    <tr>\n      <th>2010-01-07</th>\n      <td>3253.991</td>\n      <td>3268.82</td>\n      <td>3176.71</td>\n      <td>3192.776</td>\n      <td>128652827.0</td>\n      <td>NaN</td>\n      <td>NaN</td>\n      <td>NaN</td>\n    </tr>\n    <tr>\n      <th>2010-01-08</th>\n      <td>3177.259</td>\n      <td>3198.92</td>\n      <td>3149.02</td>\n      <td>3195.997</td>\n      <td>98377147.0</td>\n      <td>NaN</td>\n      <td>NaN</td>\n      <td>NaN</td>\n    </tr>\n    <tr>\n      <th>2010-01-11</th>\n      <td>3301.611</td>\n      <td>3306.75</td>\n      <td>3197.33</td>\n      <td>3212.750</td>\n      <td>136327216.0</td>\n      <td>NaN</td>\n      <td>NaN</td>\n      <td>NaN</td>\n    </tr>\n    <tr>\n      <th>2010-01-12</th>\n      <td>3205.705</td>\n      <td>3275.20</td>\n      <td>3180.09</td>\n      <td>3273.966</td>\n      <td>140655241.0</td>\n      <td>NaN</td>\n      <td>NaN</td>\n      <td>NaN</td>\n    </tr>\n    <tr>\n      <th>2010-01-13</th>\n      <td>3204.976</td>\n      <td>3232.82</td>\n      <td>3165.49</td>\n      <td>3172.658</td>\n      <td>158344278.0</td>\n      <td>NaN</td>\n      <td>NaN</td>\n      <td>NaN</td>\n    </tr>\n    <tr>\n      <th>2010-01-14</th>\n      <td>3183.381</td>\n      <td>3219.02</td>\n      <td>3165.60</td>\n      <td>3215.550</td>\n      <td>135954504.0</td>\n      <td>NaN</td>\n      <td>NaN</td>\n      <td>NaN</td>\n    </tr>\n    <tr>\n      <th>2010-01-15</th>\n      <td>3217.190</td>\n      <td>3241.82</td>\n      <td>3197.22</td>\n      <td>3224.152</td>\n      <td>120541135.0</td>\n      <td>NaN</td>\n      <td>NaN</td>\n      <td>NaN</td>\n    </tr>\n    <tr>\n      <th>2010-01-18</th>\n      <td>3213.637</td>\n      <td>3238.24</td>\n      <td>3202.21</td>\n      <td>3237.098</td>\n      <td>135067238.0</td>\n      <td>NaN</td>\n      <td>NaN</td>\n      <td>NaN</td>\n    </tr>\n    <tr>\n      <th>2010-01-19</th>\n      <td>3242.216</td>\n      <td>3268.81</td>\n      <td>3236.84</td>\n      <td>3246.874</td>\n      <td>129943532.0</td>\n      <td>NaN</td>\n      <td>NaN</td>\n      <td>NaN</td>\n    </tr>\n    <tr>\n      <th>2010-01-20</th>\n      <td>3252.037</td>\n      <td>3255.13</td>\n      <td>3148.33</td>\n      <td>3151.850</td>\n      <td>158243112.0</td>\n      <td>NaN</td>\n      <td>NaN</td>\n      <td>NaN</td>\n    </tr>\n    <tr>\n      <th>2010-01-21</th>\n      <td>3154.189</td>\n      <td>3176.15</td>\n      <td>3126.90</td>\n      <td>3158.863</td>\n      <td>114337079.0</td>\n      <td>3126.90</td>\n      <td>3306.75</td>\n      <td>17.772032</td>\n    </tr>\n    <tr>\n      <th>2010-01-22</th>\n      <td>3118.724</td>\n      <td>3147.83</td>\n      <td>3062.63</td>\n      <td>3128.588</td>\n      <td>137758538.0</td>\n      <td>3062.63</td>\n      <td>3306.75</td>\n      <td>27.018679</td>\n    </tr>\n    <tr>\n      <th>2010-01-25</th>\n      <td>3103.320</td>\n      <td>3137.00</td>\n      <td>3092.93</td>\n      <td>3094.411</td>\n      <td>78361862.0</td>\n      <td>3062.63</td>\n      <td>3306.75</td>\n      <td>13.018597</td>\n    </tr>\n    <tr>\n      <th>2010-01-26</th>\n      <td>3094.848</td>\n      <td>3107.20</td>\n      <td>3001.96</td>\n      <td>3019.394</td>\n      <td>93507092.0</td>\n      <td>3001.96</td>\n      <td>3306.75</td>\n      <td>5.720004</td>\n    </tr>\n    <tr>\n      <th>2010-01-27</th>\n      <td>3020.540</td>\n      <td>3028.65</td>\n      <td>2972.63</td>\n      <td>2986.607</td>\n      <td>76552214.0</td>\n      <td>2972.63</td>\n      <td>3306.75</td>\n      <td>4.183228</td>\n    </tr>\n    <tr>\n      <th>2010-01-28</th>\n      <td>2985.214</td>\n      <td>3006.04</td>\n      <td>2963.89</td>\n      <td>2994.143</td>\n      <td>73365767.0</td>\n      <td>2963.89</td>\n      <td>3306.75</td>\n      <td>8.823718</td>\n    </tr>\n    <tr>\n      <th>2010-01-29</th>\n      <td>2979.743</td>\n      <td>3024.85</td>\n      <td>2968.45</td>\n      <td>2989.292</td>\n      <td>80475875.0</td>\n      <td>2963.89</td>\n      <td>3275.20</td>\n      <td>8.159712</td>\n    </tr>\n    <tr>\n      <th>2010-02-01</th>\n      <td>2981.374</td>\n      <td>2981.37</td>\n      <td>2912.89</td>\n      <td>2941.360</td>\n      <td>88147114.0</td>\n      <td>2912.89</td>\n      <td>3268.81</td>\n      <td>7.998989</td>\n    </tr>\n    <tr>\n      <th>2010-02-02</th>\n      <td>2955.753</td>\n      <td>2990.75</td>\n      <td>2930.56</td>\n      <td>2934.713</td>\n      <td>82485789.0</td>\n      <td>2912.89</td>\n      <td>3268.81</td>\n      <td>6.131434</td>\n    </tr>\n    <tr>\n      <th>2010-02-03</th>\n      <td>2945.034</td>\n      <td>3005.13</td>\n      <td>2890.02</td>\n      <td>3003.835</td>\n      <td>101022537.0</td>\n      <td>2890.02</td>\n      <td>3268.81</td>\n      <td>30.046992</td>\n    </tr>\n    <tr>\n      <th>2010-02-04</th>\n      <td>2983.050</td>\n      <td>3015.13</td>\n      <td>2968.68</td>\n      <td>2995.308</td>\n      <td>99918364.0</td>\n      <td>2890.02</td>\n      <td>3268.81</td>\n      <td>27.795876</td>\n    </tr>\n    <tr>\n      <th>2010-02-05</th>\n      <td>2936.197</td>\n      <td>2959.23</td>\n      <td>2918.91</td>\n      <td>2939.402</td>\n      <td>97274989.0</td>\n      <td>2890.02</td>\n      <td>3268.81</td>\n      <td>13.036775</td>\n    </tr>\n    <tr>\n      <th>2010-02-08</th>\n      <td>2936.452</td>\n      <td>2954.27</td>\n      <td>2922.19</td>\n      <td>2935.174</td>\n      <td>63299582.0</td>\n      <td>2890.02</td>\n      <td>3255.13</td>\n      <td>12.367232</td>\n    </tr>\n    <tr>\n      <th>2010-02-09</th>\n      <td>2932.090</td>\n      <td>2957.47</td>\n      <td>2929.21</td>\n      <td>2948.842</td>\n      <td>62282207.0</td>\n      <td>2890.02</td>\n      <td>3176.15</td>\n      <td>20.557788</td>\n    </tr>\n    <tr>\n      <th>2010-02-10</th>\n      <td>2967.138</td>\n      <td>2983.18</td>\n      <td>2958.22</td>\n      <td>2982.500</td>\n      <td>55588005.0</td>\n      <td>2890.02</td>\n      <td>3147.83</td>\n      <td>35.871378</td>\n    </tr>\n    <tr>\n      <th>2010-02-11</th>\n      <td>2985.082</td>\n      <td>3001.64</td>\n      <td>2976.08</td>\n      <td>2985.499</td>\n      <td>56646305.0</td>\n      <td>2890.02</td>\n      <td>3137.00</td>\n      <td>38.658596</td>\n    </tr>\n    <tr>\n      <th>2010-02-12</th>\n      <td>2996.088</td>\n      <td>3018.86</td>\n      <td>2993.44</td>\n      <td>3018.133</td>\n      <td>56092124.0</td>\n      <td>2890.02</td>\n      <td>3107.20</td>\n      <td>58.989318</td>\n    </tr>\n  </tbody>\n</table>\n</div>"
     },
     "execution_count": 5,
     "metadata": {},
     "output_type": "execute_result"
    }
   ],
   "source": [
    "n = 14\n",
    "\n",
    "# Make a copy of the high and low column.\n",
    "low_14, high_14 = price_data[['low']].copy(), price_data[['high']].copy()\n",
    "\n",
    "# Group by symbol, then apply the rolling function and grab the Min and Max.\n",
    "low_14 = low_14['low'].transform(lambda x: x.rolling(window = n).min())\n",
    "high_14 = high_14['high'].transform(lambda x: x.rolling(window = n).max())\n",
    "\n",
    "# Calculate the Stochastic Oscillator.\n",
    "k_percent = 100 * ((price_data['close'] - low_14) / (high_14 - low_14))\n",
    "\n",
    "# Add the info to the data frame.\n",
    "price_data['low_14'] = low_14\n",
    "price_data['high_14'] = high_14\n",
    "price_data['k_percent'] = k_percent\n",
    "\n",
    "# Display the head.\n",
    "price_data.head(30)"
   ],
   "metadata": {
    "collapsed": false,
    "pycharm": {
     "name": "#%%\n"
    }
   }
  },
  {
   "cell_type": "code",
   "execution_count": 7,
   "outputs": [
    {
     "data": {
      "text/plain": "                open     high      low     close       volume   low_14  \\\n2010-01-04  3289.750  3295.28  3243.32  3243.760  109447927.0      NaN   \n2010-01-05  3254.468  3290.51  3221.46  3282.179  126115066.0      NaN   \n2010-01-06  3277.517  3295.87  3253.04  3254.215  123651384.0      NaN   \n2010-01-07  3253.991  3268.82  3176.71  3192.776  128652827.0      NaN   \n2010-01-08  3177.259  3198.92  3149.02  3195.997   98377147.0      NaN   \n2010-01-11  3301.611  3306.75  3197.33  3212.750  136327216.0      NaN   \n2010-01-12  3205.705  3275.20  3180.09  3273.966  140655241.0      NaN   \n2010-01-13  3204.976  3232.82  3165.49  3172.658  158344278.0      NaN   \n2010-01-14  3183.381  3219.02  3165.60  3215.550  135954504.0      NaN   \n2010-01-15  3217.190  3241.82  3197.22  3224.152  120541135.0      NaN   \n2010-01-18  3213.637  3238.24  3202.21  3237.098  135067238.0      NaN   \n2010-01-19  3242.216  3268.81  3236.84  3246.874  129943532.0      NaN   \n2010-01-20  3252.037  3255.13  3148.33  3151.850  158243112.0      NaN   \n2010-01-21  3154.189  3176.15  3126.90  3158.863  114337079.0  3126.90   \n2010-01-22  3118.724  3147.83  3062.63  3128.588  137758538.0  3062.63   \n2010-01-25  3103.320  3137.00  3092.93  3094.411   78361862.0  3062.63   \n2010-01-26  3094.848  3107.20  3001.96  3019.394   93507092.0  3001.96   \n2010-01-27  3020.540  3028.65  2972.63  2986.607   76552214.0  2972.63   \n2010-01-28  2985.214  3006.04  2963.89  2994.143   73365767.0  2963.89   \n2010-01-29  2979.743  3024.85  2968.45  2989.292   80475875.0  2963.89   \n2010-02-01  2981.374  2981.37  2912.89  2941.360   88147114.0  2912.89   \n2010-02-02  2955.753  2990.75  2930.56  2934.713   82485789.0  2912.89   \n2010-02-03  2945.034  3005.13  2890.02  3003.835  101022537.0  2890.02   \n2010-02-04  2983.050  3015.13  2968.68  2995.308   99918364.0  2890.02   \n2010-02-05  2936.197  2959.23  2918.91  2939.402   97274989.0  2890.02   \n2010-02-08  2936.452  2954.27  2922.19  2935.174   63299582.0  2890.02   \n2010-02-09  2932.090  2957.47  2929.21  2948.842   62282207.0  2890.02   \n2010-02-10  2967.138  2983.18  2958.22  2982.500   55588005.0  2890.02   \n2010-02-11  2985.082  3001.64  2976.08  2985.499   56646305.0  2890.02   \n2010-02-12  2996.088  3018.86  2993.44  3018.133   56092124.0  2890.02   \n\n            high_14  k_percent  r_percent  \n2010-01-04      NaN        NaN        NaN  \n2010-01-05      NaN        NaN        NaN  \n2010-01-06      NaN        NaN        NaN  \n2010-01-07      NaN        NaN        NaN  \n2010-01-08      NaN        NaN        NaN  \n2010-01-11      NaN        NaN        NaN  \n2010-01-12      NaN        NaN        NaN  \n2010-01-13      NaN        NaN        NaN  \n2010-01-14      NaN        NaN        NaN  \n2010-01-15      NaN        NaN        NaN  \n2010-01-18      NaN        NaN        NaN  \n2010-01-19      NaN        NaN        NaN  \n2010-01-20      NaN        NaN        NaN  \n2010-01-21  3306.75  17.772032 -82.227968  \n2010-01-22  3306.75  27.018679 -72.981321  \n2010-01-25  3306.75  13.018597 -86.981403  \n2010-01-26  3306.75   5.720004 -94.279996  \n2010-01-27  3306.75   4.183228 -95.816772  \n2010-01-28  3306.75   8.823718 -91.176282  \n2010-01-29  3275.20   8.159712 -91.840288  \n2010-02-01  3268.81   7.998989 -92.001011  \n2010-02-02  3268.81   6.131434 -93.868566  \n2010-02-03  3268.81  30.046992 -69.953008  \n2010-02-04  3268.81  27.795876 -72.204124  \n2010-02-05  3268.81  13.036775 -86.963225  \n2010-02-08  3255.13  12.367232 -87.632768  \n2010-02-09  3176.15  20.557788 -79.442212  \n2010-02-10  3147.83  35.871378 -64.128622  \n2010-02-11  3137.00  38.658596 -61.341404  \n2010-02-12  3107.20  58.989318 -41.010682  ",
      "text/html": "<div>\n<style scoped>\n    .dataframe tbody tr th:only-of-type {\n        vertical-align: middle;\n    }\n\n    .dataframe tbody tr th {\n        vertical-align: top;\n    }\n\n    .dataframe thead th {\n        text-align: right;\n    }\n</style>\n<table border=\"1\" class=\"dataframe\">\n  <thead>\n    <tr style=\"text-align: right;\">\n      <th></th>\n      <th>open</th>\n      <th>high</th>\n      <th>low</th>\n      <th>close</th>\n      <th>volume</th>\n      <th>low_14</th>\n      <th>high_14</th>\n      <th>k_percent</th>\n      <th>r_percent</th>\n    </tr>\n  </thead>\n  <tbody>\n    <tr>\n      <th>2010-01-04</th>\n      <td>3289.750</td>\n      <td>3295.28</td>\n      <td>3243.32</td>\n      <td>3243.760</td>\n      <td>109447927.0</td>\n      <td>NaN</td>\n      <td>NaN</td>\n      <td>NaN</td>\n      <td>NaN</td>\n    </tr>\n    <tr>\n      <th>2010-01-05</th>\n      <td>3254.468</td>\n      <td>3290.51</td>\n      <td>3221.46</td>\n      <td>3282.179</td>\n      <td>126115066.0</td>\n      <td>NaN</td>\n      <td>NaN</td>\n      <td>NaN</td>\n      <td>NaN</td>\n    </tr>\n    <tr>\n      <th>2010-01-06</th>\n      <td>3277.517</td>\n      <td>3295.87</td>\n      <td>3253.04</td>\n      <td>3254.215</td>\n      <td>123651384.0</td>\n      <td>NaN</td>\n      <td>NaN</td>\n      <td>NaN</td>\n      <td>NaN</td>\n    </tr>\n    <tr>\n      <th>2010-01-07</th>\n      <td>3253.991</td>\n      <td>3268.82</td>\n      <td>3176.71</td>\n      <td>3192.776</td>\n      <td>128652827.0</td>\n      <td>NaN</td>\n      <td>NaN</td>\n      <td>NaN</td>\n      <td>NaN</td>\n    </tr>\n    <tr>\n      <th>2010-01-08</th>\n      <td>3177.259</td>\n      <td>3198.92</td>\n      <td>3149.02</td>\n      <td>3195.997</td>\n      <td>98377147.0</td>\n      <td>NaN</td>\n      <td>NaN</td>\n      <td>NaN</td>\n      <td>NaN</td>\n    </tr>\n    <tr>\n      <th>2010-01-11</th>\n      <td>3301.611</td>\n      <td>3306.75</td>\n      <td>3197.33</td>\n      <td>3212.750</td>\n      <td>136327216.0</td>\n      <td>NaN</td>\n      <td>NaN</td>\n      <td>NaN</td>\n      <td>NaN</td>\n    </tr>\n    <tr>\n      <th>2010-01-12</th>\n      <td>3205.705</td>\n      <td>3275.20</td>\n      <td>3180.09</td>\n      <td>3273.966</td>\n      <td>140655241.0</td>\n      <td>NaN</td>\n      <td>NaN</td>\n      <td>NaN</td>\n      <td>NaN</td>\n    </tr>\n    <tr>\n      <th>2010-01-13</th>\n      <td>3204.976</td>\n      <td>3232.82</td>\n      <td>3165.49</td>\n      <td>3172.658</td>\n      <td>158344278.0</td>\n      <td>NaN</td>\n      <td>NaN</td>\n      <td>NaN</td>\n      <td>NaN</td>\n    </tr>\n    <tr>\n      <th>2010-01-14</th>\n      <td>3183.381</td>\n      <td>3219.02</td>\n      <td>3165.60</td>\n      <td>3215.550</td>\n      <td>135954504.0</td>\n      <td>NaN</td>\n      <td>NaN</td>\n      <td>NaN</td>\n      <td>NaN</td>\n    </tr>\n    <tr>\n      <th>2010-01-15</th>\n      <td>3217.190</td>\n      <td>3241.82</td>\n      <td>3197.22</td>\n      <td>3224.152</td>\n      <td>120541135.0</td>\n      <td>NaN</td>\n      <td>NaN</td>\n      <td>NaN</td>\n      <td>NaN</td>\n    </tr>\n    <tr>\n      <th>2010-01-18</th>\n      <td>3213.637</td>\n      <td>3238.24</td>\n      <td>3202.21</td>\n      <td>3237.098</td>\n      <td>135067238.0</td>\n      <td>NaN</td>\n      <td>NaN</td>\n      <td>NaN</td>\n      <td>NaN</td>\n    </tr>\n    <tr>\n      <th>2010-01-19</th>\n      <td>3242.216</td>\n      <td>3268.81</td>\n      <td>3236.84</td>\n      <td>3246.874</td>\n      <td>129943532.0</td>\n      <td>NaN</td>\n      <td>NaN</td>\n      <td>NaN</td>\n      <td>NaN</td>\n    </tr>\n    <tr>\n      <th>2010-01-20</th>\n      <td>3252.037</td>\n      <td>3255.13</td>\n      <td>3148.33</td>\n      <td>3151.850</td>\n      <td>158243112.0</td>\n      <td>NaN</td>\n      <td>NaN</td>\n      <td>NaN</td>\n      <td>NaN</td>\n    </tr>\n    <tr>\n      <th>2010-01-21</th>\n      <td>3154.189</td>\n      <td>3176.15</td>\n      <td>3126.90</td>\n      <td>3158.863</td>\n      <td>114337079.0</td>\n      <td>3126.90</td>\n      <td>3306.75</td>\n      <td>17.772032</td>\n      <td>-82.227968</td>\n    </tr>\n    <tr>\n      <th>2010-01-22</th>\n      <td>3118.724</td>\n      <td>3147.83</td>\n      <td>3062.63</td>\n      <td>3128.588</td>\n      <td>137758538.0</td>\n      <td>3062.63</td>\n      <td>3306.75</td>\n      <td>27.018679</td>\n      <td>-72.981321</td>\n    </tr>\n    <tr>\n      <th>2010-01-25</th>\n      <td>3103.320</td>\n      <td>3137.00</td>\n      <td>3092.93</td>\n      <td>3094.411</td>\n      <td>78361862.0</td>\n      <td>3062.63</td>\n      <td>3306.75</td>\n      <td>13.018597</td>\n      <td>-86.981403</td>\n    </tr>\n    <tr>\n      <th>2010-01-26</th>\n      <td>3094.848</td>\n      <td>3107.20</td>\n      <td>3001.96</td>\n      <td>3019.394</td>\n      <td>93507092.0</td>\n      <td>3001.96</td>\n      <td>3306.75</td>\n      <td>5.720004</td>\n      <td>-94.279996</td>\n    </tr>\n    <tr>\n      <th>2010-01-27</th>\n      <td>3020.540</td>\n      <td>3028.65</td>\n      <td>2972.63</td>\n      <td>2986.607</td>\n      <td>76552214.0</td>\n      <td>2972.63</td>\n      <td>3306.75</td>\n      <td>4.183228</td>\n      <td>-95.816772</td>\n    </tr>\n    <tr>\n      <th>2010-01-28</th>\n      <td>2985.214</td>\n      <td>3006.04</td>\n      <td>2963.89</td>\n      <td>2994.143</td>\n      <td>73365767.0</td>\n      <td>2963.89</td>\n      <td>3306.75</td>\n      <td>8.823718</td>\n      <td>-91.176282</td>\n    </tr>\n    <tr>\n      <th>2010-01-29</th>\n      <td>2979.743</td>\n      <td>3024.85</td>\n      <td>2968.45</td>\n      <td>2989.292</td>\n      <td>80475875.0</td>\n      <td>2963.89</td>\n      <td>3275.20</td>\n      <td>8.159712</td>\n      <td>-91.840288</td>\n    </tr>\n    <tr>\n      <th>2010-02-01</th>\n      <td>2981.374</td>\n      <td>2981.37</td>\n      <td>2912.89</td>\n      <td>2941.360</td>\n      <td>88147114.0</td>\n      <td>2912.89</td>\n      <td>3268.81</td>\n      <td>7.998989</td>\n      <td>-92.001011</td>\n    </tr>\n    <tr>\n      <th>2010-02-02</th>\n      <td>2955.753</td>\n      <td>2990.75</td>\n      <td>2930.56</td>\n      <td>2934.713</td>\n      <td>82485789.0</td>\n      <td>2912.89</td>\n      <td>3268.81</td>\n      <td>6.131434</td>\n      <td>-93.868566</td>\n    </tr>\n    <tr>\n      <th>2010-02-03</th>\n      <td>2945.034</td>\n      <td>3005.13</td>\n      <td>2890.02</td>\n      <td>3003.835</td>\n      <td>101022537.0</td>\n      <td>2890.02</td>\n      <td>3268.81</td>\n      <td>30.046992</td>\n      <td>-69.953008</td>\n    </tr>\n    <tr>\n      <th>2010-02-04</th>\n      <td>2983.050</td>\n      <td>3015.13</td>\n      <td>2968.68</td>\n      <td>2995.308</td>\n      <td>99918364.0</td>\n      <td>2890.02</td>\n      <td>3268.81</td>\n      <td>27.795876</td>\n      <td>-72.204124</td>\n    </tr>\n    <tr>\n      <th>2010-02-05</th>\n      <td>2936.197</td>\n      <td>2959.23</td>\n      <td>2918.91</td>\n      <td>2939.402</td>\n      <td>97274989.0</td>\n      <td>2890.02</td>\n      <td>3268.81</td>\n      <td>13.036775</td>\n      <td>-86.963225</td>\n    </tr>\n    <tr>\n      <th>2010-02-08</th>\n      <td>2936.452</td>\n      <td>2954.27</td>\n      <td>2922.19</td>\n      <td>2935.174</td>\n      <td>63299582.0</td>\n      <td>2890.02</td>\n      <td>3255.13</td>\n      <td>12.367232</td>\n      <td>-87.632768</td>\n    </tr>\n    <tr>\n      <th>2010-02-09</th>\n      <td>2932.090</td>\n      <td>2957.47</td>\n      <td>2929.21</td>\n      <td>2948.842</td>\n      <td>62282207.0</td>\n      <td>2890.02</td>\n      <td>3176.15</td>\n      <td>20.557788</td>\n      <td>-79.442212</td>\n    </tr>\n    <tr>\n      <th>2010-02-10</th>\n      <td>2967.138</td>\n      <td>2983.18</td>\n      <td>2958.22</td>\n      <td>2982.500</td>\n      <td>55588005.0</td>\n      <td>2890.02</td>\n      <td>3147.83</td>\n      <td>35.871378</td>\n      <td>-64.128622</td>\n    </tr>\n    <tr>\n      <th>2010-02-11</th>\n      <td>2985.082</td>\n      <td>3001.64</td>\n      <td>2976.08</td>\n      <td>2985.499</td>\n      <td>56646305.0</td>\n      <td>2890.02</td>\n      <td>3137.00</td>\n      <td>38.658596</td>\n      <td>-61.341404</td>\n    </tr>\n    <tr>\n      <th>2010-02-12</th>\n      <td>2996.088</td>\n      <td>3018.86</td>\n      <td>2993.44</td>\n      <td>3018.133</td>\n      <td>56092124.0</td>\n      <td>2890.02</td>\n      <td>3107.20</td>\n      <td>58.989318</td>\n      <td>-41.010682</td>\n    </tr>\n  </tbody>\n</table>\n</div>"
     },
     "execution_count": 7,
     "metadata": {},
     "output_type": "execute_result"
    }
   ],
   "source": [
    "#威廉指标，利用市场的摆动幅度衡量市场的超买超卖\n",
    "# Calculate the Williams %R\n",
    "n = 14\n",
    "\n",
    "# Make a copy of the high and low column.\n",
    "low_14, high_14 = price_data[['low']].copy(), price_data[['high']].copy()\n",
    "\n",
    "# Group by symbol, then apply the rolling function and grab the Min and Max.\n",
    "low_14 = low_14['low'].transform(lambda x: x.rolling(window = n).min())\n",
    "high_14 = high_14['high'].transform(lambda x: x.rolling(window = n).max())\n",
    "\n",
    "# Calculate William %R indicator.\n",
    "r_percent = ((high_14 - price_data['close']) / (high_14 - low_14)) * - 100\n",
    "\n",
    "# Add the info to the data frame.\n",
    "price_data['r_percent'] = r_percent\n",
    "\n",
    "# Display the head.\n",
    "price_data.head(30)\n",
    "\n",
    "\n"
   ],
   "metadata": {
    "collapsed": false,
    "pycharm": {
     "name": "#%%\n"
    }
   }
  },
  {
   "cell_type": "code",
   "execution_count": 8,
   "outputs": [
    {
     "data": {
      "text/plain": "                open     high      low     close       volume   low_14  \\\n2010-01-04  3289.750  3295.28  3243.32  3243.760  109447927.0      NaN   \n2010-01-05  3254.468  3290.51  3221.46  3282.179  126115066.0      NaN   \n2010-01-06  3277.517  3295.87  3253.04  3254.215  123651384.0      NaN   \n2010-01-07  3253.991  3268.82  3176.71  3192.776  128652827.0      NaN   \n2010-01-08  3177.259  3198.92  3149.02  3195.997   98377147.0      NaN   \n2010-01-11  3301.611  3306.75  3197.33  3212.750  136327216.0      NaN   \n2010-01-12  3205.705  3275.20  3180.09  3273.966  140655241.0      NaN   \n2010-01-13  3204.976  3232.82  3165.49  3172.658  158344278.0      NaN   \n2010-01-14  3183.381  3219.02  3165.60  3215.550  135954504.0      NaN   \n2010-01-15  3217.190  3241.82  3197.22  3224.152  120541135.0      NaN   \n2010-01-18  3213.637  3238.24  3202.21  3237.098  135067238.0      NaN   \n2010-01-19  3242.216  3268.81  3236.84  3246.874  129943532.0      NaN   \n2010-01-20  3252.037  3255.13  3148.33  3151.850  158243112.0      NaN   \n2010-01-21  3154.189  3176.15  3126.90  3158.863  114337079.0  3126.90   \n2010-01-22  3118.724  3147.83  3062.63  3128.588  137758538.0  3062.63   \n2010-01-25  3103.320  3137.00  3092.93  3094.411   78361862.0  3062.63   \n2010-01-26  3094.848  3107.20  3001.96  3019.394   93507092.0  3001.96   \n2010-01-27  3020.540  3028.65  2972.63  2986.607   76552214.0  2972.63   \n2010-01-28  2985.214  3006.04  2963.89  2994.143   73365767.0  2963.89   \n2010-01-29  2979.743  3024.85  2968.45  2989.292   80475875.0  2963.89   \n2010-02-01  2981.374  2981.37  2912.89  2941.360   88147114.0  2912.89   \n2010-02-02  2955.753  2990.75  2930.56  2934.713   82485789.0  2912.89   \n2010-02-03  2945.034  3005.13  2890.02  3003.835  101022537.0  2890.02   \n2010-02-04  2983.050  3015.13  2968.68  2995.308   99918364.0  2890.02   \n2010-02-05  2936.197  2959.23  2918.91  2939.402   97274989.0  2890.02   \n2010-02-08  2936.452  2954.27  2922.19  2935.174   63299582.0  2890.02   \n2010-02-09  2932.090  2957.47  2929.21  2948.842   62282207.0  2890.02   \n2010-02-10  2967.138  2983.18  2958.22  2982.500   55588005.0  2890.02   \n2010-02-11  2985.082  3001.64  2976.08  2985.499   56646305.0  2890.02   \n2010-02-12  2996.088  3018.86  2993.44  3018.133   56092124.0  2890.02   \n\n            high_14  k_percent  r_percent       MACD   MACD_EMA  \n2010-01-04      NaN        NaN        NaN   0.000000   0.000000  \n2010-01-05      NaN        NaN        NaN   0.861965   0.478869  \n2010-01-06      NaN        NaN        NaN   0.231152   0.377346  \n2010-01-07      NaN        NaN        NaN  -2.279650  -0.522721  \n2010-01-08      NaN        NaN        NaN  -3.467820  -1.398821  \n2010-01-11      NaN        NaN        NaN  -3.400519  -1.941392  \n2010-01-12      NaN        NaN        NaN  -0.525597  -1.583092  \n2010-01-13      NaN        NaN        NaN  -3.407613  -2.021559  \n2010-01-14      NaN        NaN        NaN  -3.223477  -2.299208  \n2010-01-15      NaN        NaN        NaN  -2.602875  -2.367247  \n2010-01-18      NaN        NaN        NaN  -1.428210  -2.161791  \n2010-01-19      NaN        NaN        NaN  -0.010568  -1.699799  \n2010-01-20      NaN        NaN        NaN  -4.326799  -2.255763  \n2010-01-21  3306.75  17.772032 -82.227968  -7.094912  -3.268117  \n2010-01-22  3306.75  27.018679 -72.981321 -10.888528  -4.847778  \n2010-01-25  3306.75  13.018597 -86.981403 -15.703068  -7.081716  \n2010-01-26  3306.75   5.720004 -94.279996 -23.822345 -10.506972  \n2010-01-27  3306.75   4.183228 -95.816772 -31.815166 -14.846790  \n2010-01-28  3306.75   8.823718 -91.176282 -37.087325 -19.359938  \n2010-01-29  3275.20   8.159712 -91.840288 -41.019494 -23.742375  \n2010-02-01  3268.81   7.998989 -92.001011 -46.737105 -28.384134  \n2010-02-02  3268.81   6.131434 -93.868566 -51.052707 -32.951550  \n2010-02-03  3268.81  30.046992 -69.953008 -49.098414 -36.200099  \n2010-02-04  3268.81  27.795876 -72.204124 -47.587244 -38.488334  \n2010-02-05  3268.81  13.036775 -86.963225 -49.738340 -40.746867  \n2010-02-08  3255.13  12.367232 -87.632768 -51.126841 -42.829155  \n2010-02-09  3176.15  20.557788 -79.442212 -50.642436 -44.395599  \n2010-02-10  3147.83  35.871378 -64.128622 -47.267768 -44.971146  \n2010-02-11  3137.00  38.658596 -61.341404 -43.868861 -44.750347  \n2010-02-12  3107.20  58.989318 -41.010682 -38.336098 -43.465907  ",
      "text/html": "<div>\n<style scoped>\n    .dataframe tbody tr th:only-of-type {\n        vertical-align: middle;\n    }\n\n    .dataframe tbody tr th {\n        vertical-align: top;\n    }\n\n    .dataframe thead th {\n        text-align: right;\n    }\n</style>\n<table border=\"1\" class=\"dataframe\">\n  <thead>\n    <tr style=\"text-align: right;\">\n      <th></th>\n      <th>open</th>\n      <th>high</th>\n      <th>low</th>\n      <th>close</th>\n      <th>volume</th>\n      <th>low_14</th>\n      <th>high_14</th>\n      <th>k_percent</th>\n      <th>r_percent</th>\n      <th>MACD</th>\n      <th>MACD_EMA</th>\n    </tr>\n  </thead>\n  <tbody>\n    <tr>\n      <th>2010-01-04</th>\n      <td>3289.750</td>\n      <td>3295.28</td>\n      <td>3243.32</td>\n      <td>3243.760</td>\n      <td>109447927.0</td>\n      <td>NaN</td>\n      <td>NaN</td>\n      <td>NaN</td>\n      <td>NaN</td>\n      <td>0.000000</td>\n      <td>0.000000</td>\n    </tr>\n    <tr>\n      <th>2010-01-05</th>\n      <td>3254.468</td>\n      <td>3290.51</td>\n      <td>3221.46</td>\n      <td>3282.179</td>\n      <td>126115066.0</td>\n      <td>NaN</td>\n      <td>NaN</td>\n      <td>NaN</td>\n      <td>NaN</td>\n      <td>0.861965</td>\n      <td>0.478869</td>\n    </tr>\n    <tr>\n      <th>2010-01-06</th>\n      <td>3277.517</td>\n      <td>3295.87</td>\n      <td>3253.04</td>\n      <td>3254.215</td>\n      <td>123651384.0</td>\n      <td>NaN</td>\n      <td>NaN</td>\n      <td>NaN</td>\n      <td>NaN</td>\n      <td>0.231152</td>\n      <td>0.377346</td>\n    </tr>\n    <tr>\n      <th>2010-01-07</th>\n      <td>3253.991</td>\n      <td>3268.82</td>\n      <td>3176.71</td>\n      <td>3192.776</td>\n      <td>128652827.0</td>\n      <td>NaN</td>\n      <td>NaN</td>\n      <td>NaN</td>\n      <td>NaN</td>\n      <td>-2.279650</td>\n      <td>-0.522721</td>\n    </tr>\n    <tr>\n      <th>2010-01-08</th>\n      <td>3177.259</td>\n      <td>3198.92</td>\n      <td>3149.02</td>\n      <td>3195.997</td>\n      <td>98377147.0</td>\n      <td>NaN</td>\n      <td>NaN</td>\n      <td>NaN</td>\n      <td>NaN</td>\n      <td>-3.467820</td>\n      <td>-1.398821</td>\n    </tr>\n    <tr>\n      <th>2010-01-11</th>\n      <td>3301.611</td>\n      <td>3306.75</td>\n      <td>3197.33</td>\n      <td>3212.750</td>\n      <td>136327216.0</td>\n      <td>NaN</td>\n      <td>NaN</td>\n      <td>NaN</td>\n      <td>NaN</td>\n      <td>-3.400519</td>\n      <td>-1.941392</td>\n    </tr>\n    <tr>\n      <th>2010-01-12</th>\n      <td>3205.705</td>\n      <td>3275.20</td>\n      <td>3180.09</td>\n      <td>3273.966</td>\n      <td>140655241.0</td>\n      <td>NaN</td>\n      <td>NaN</td>\n      <td>NaN</td>\n      <td>NaN</td>\n      <td>-0.525597</td>\n      <td>-1.583092</td>\n    </tr>\n    <tr>\n      <th>2010-01-13</th>\n      <td>3204.976</td>\n      <td>3232.82</td>\n      <td>3165.49</td>\n      <td>3172.658</td>\n      <td>158344278.0</td>\n      <td>NaN</td>\n      <td>NaN</td>\n      <td>NaN</td>\n      <td>NaN</td>\n      <td>-3.407613</td>\n      <td>-2.021559</td>\n    </tr>\n    <tr>\n      <th>2010-01-14</th>\n      <td>3183.381</td>\n      <td>3219.02</td>\n      <td>3165.60</td>\n      <td>3215.550</td>\n      <td>135954504.0</td>\n      <td>NaN</td>\n      <td>NaN</td>\n      <td>NaN</td>\n      <td>NaN</td>\n      <td>-3.223477</td>\n      <td>-2.299208</td>\n    </tr>\n    <tr>\n      <th>2010-01-15</th>\n      <td>3217.190</td>\n      <td>3241.82</td>\n      <td>3197.22</td>\n      <td>3224.152</td>\n      <td>120541135.0</td>\n      <td>NaN</td>\n      <td>NaN</td>\n      <td>NaN</td>\n      <td>NaN</td>\n      <td>-2.602875</td>\n      <td>-2.367247</td>\n    </tr>\n    <tr>\n      <th>2010-01-18</th>\n      <td>3213.637</td>\n      <td>3238.24</td>\n      <td>3202.21</td>\n      <td>3237.098</td>\n      <td>135067238.0</td>\n      <td>NaN</td>\n      <td>NaN</td>\n      <td>NaN</td>\n      <td>NaN</td>\n      <td>-1.428210</td>\n      <td>-2.161791</td>\n    </tr>\n    <tr>\n      <th>2010-01-19</th>\n      <td>3242.216</td>\n      <td>3268.81</td>\n      <td>3236.84</td>\n      <td>3246.874</td>\n      <td>129943532.0</td>\n      <td>NaN</td>\n      <td>NaN</td>\n      <td>NaN</td>\n      <td>NaN</td>\n      <td>-0.010568</td>\n      <td>-1.699799</td>\n    </tr>\n    <tr>\n      <th>2010-01-20</th>\n      <td>3252.037</td>\n      <td>3255.13</td>\n      <td>3148.33</td>\n      <td>3151.850</td>\n      <td>158243112.0</td>\n      <td>NaN</td>\n      <td>NaN</td>\n      <td>NaN</td>\n      <td>NaN</td>\n      <td>-4.326799</td>\n      <td>-2.255763</td>\n    </tr>\n    <tr>\n      <th>2010-01-21</th>\n      <td>3154.189</td>\n      <td>3176.15</td>\n      <td>3126.90</td>\n      <td>3158.863</td>\n      <td>114337079.0</td>\n      <td>3126.90</td>\n      <td>3306.75</td>\n      <td>17.772032</td>\n      <td>-82.227968</td>\n      <td>-7.094912</td>\n      <td>-3.268117</td>\n    </tr>\n    <tr>\n      <th>2010-01-22</th>\n      <td>3118.724</td>\n      <td>3147.83</td>\n      <td>3062.63</td>\n      <td>3128.588</td>\n      <td>137758538.0</td>\n      <td>3062.63</td>\n      <td>3306.75</td>\n      <td>27.018679</td>\n      <td>-72.981321</td>\n      <td>-10.888528</td>\n      <td>-4.847778</td>\n    </tr>\n    <tr>\n      <th>2010-01-25</th>\n      <td>3103.320</td>\n      <td>3137.00</td>\n      <td>3092.93</td>\n      <td>3094.411</td>\n      <td>78361862.0</td>\n      <td>3062.63</td>\n      <td>3306.75</td>\n      <td>13.018597</td>\n      <td>-86.981403</td>\n      <td>-15.703068</td>\n      <td>-7.081716</td>\n    </tr>\n    <tr>\n      <th>2010-01-26</th>\n      <td>3094.848</td>\n      <td>3107.20</td>\n      <td>3001.96</td>\n      <td>3019.394</td>\n      <td>93507092.0</td>\n      <td>3001.96</td>\n      <td>3306.75</td>\n      <td>5.720004</td>\n      <td>-94.279996</td>\n      <td>-23.822345</td>\n      <td>-10.506972</td>\n    </tr>\n    <tr>\n      <th>2010-01-27</th>\n      <td>3020.540</td>\n      <td>3028.65</td>\n      <td>2972.63</td>\n      <td>2986.607</td>\n      <td>76552214.0</td>\n      <td>2972.63</td>\n      <td>3306.75</td>\n      <td>4.183228</td>\n      <td>-95.816772</td>\n      <td>-31.815166</td>\n      <td>-14.846790</td>\n    </tr>\n    <tr>\n      <th>2010-01-28</th>\n      <td>2985.214</td>\n      <td>3006.04</td>\n      <td>2963.89</td>\n      <td>2994.143</td>\n      <td>73365767.0</td>\n      <td>2963.89</td>\n      <td>3306.75</td>\n      <td>8.823718</td>\n      <td>-91.176282</td>\n      <td>-37.087325</td>\n      <td>-19.359938</td>\n    </tr>\n    <tr>\n      <th>2010-01-29</th>\n      <td>2979.743</td>\n      <td>3024.85</td>\n      <td>2968.45</td>\n      <td>2989.292</td>\n      <td>80475875.0</td>\n      <td>2963.89</td>\n      <td>3275.20</td>\n      <td>8.159712</td>\n      <td>-91.840288</td>\n      <td>-41.019494</td>\n      <td>-23.742375</td>\n    </tr>\n    <tr>\n      <th>2010-02-01</th>\n      <td>2981.374</td>\n      <td>2981.37</td>\n      <td>2912.89</td>\n      <td>2941.360</td>\n      <td>88147114.0</td>\n      <td>2912.89</td>\n      <td>3268.81</td>\n      <td>7.998989</td>\n      <td>-92.001011</td>\n      <td>-46.737105</td>\n      <td>-28.384134</td>\n    </tr>\n    <tr>\n      <th>2010-02-02</th>\n      <td>2955.753</td>\n      <td>2990.75</td>\n      <td>2930.56</td>\n      <td>2934.713</td>\n      <td>82485789.0</td>\n      <td>2912.89</td>\n      <td>3268.81</td>\n      <td>6.131434</td>\n      <td>-93.868566</td>\n      <td>-51.052707</td>\n      <td>-32.951550</td>\n    </tr>\n    <tr>\n      <th>2010-02-03</th>\n      <td>2945.034</td>\n      <td>3005.13</td>\n      <td>2890.02</td>\n      <td>3003.835</td>\n      <td>101022537.0</td>\n      <td>2890.02</td>\n      <td>3268.81</td>\n      <td>30.046992</td>\n      <td>-69.953008</td>\n      <td>-49.098414</td>\n      <td>-36.200099</td>\n    </tr>\n    <tr>\n      <th>2010-02-04</th>\n      <td>2983.050</td>\n      <td>3015.13</td>\n      <td>2968.68</td>\n      <td>2995.308</td>\n      <td>99918364.0</td>\n      <td>2890.02</td>\n      <td>3268.81</td>\n      <td>27.795876</td>\n      <td>-72.204124</td>\n      <td>-47.587244</td>\n      <td>-38.488334</td>\n    </tr>\n    <tr>\n      <th>2010-02-05</th>\n      <td>2936.197</td>\n      <td>2959.23</td>\n      <td>2918.91</td>\n      <td>2939.402</td>\n      <td>97274989.0</td>\n      <td>2890.02</td>\n      <td>3268.81</td>\n      <td>13.036775</td>\n      <td>-86.963225</td>\n      <td>-49.738340</td>\n      <td>-40.746867</td>\n    </tr>\n    <tr>\n      <th>2010-02-08</th>\n      <td>2936.452</td>\n      <td>2954.27</td>\n      <td>2922.19</td>\n      <td>2935.174</td>\n      <td>63299582.0</td>\n      <td>2890.02</td>\n      <td>3255.13</td>\n      <td>12.367232</td>\n      <td>-87.632768</td>\n      <td>-51.126841</td>\n      <td>-42.829155</td>\n    </tr>\n    <tr>\n      <th>2010-02-09</th>\n      <td>2932.090</td>\n      <td>2957.47</td>\n      <td>2929.21</td>\n      <td>2948.842</td>\n      <td>62282207.0</td>\n      <td>2890.02</td>\n      <td>3176.15</td>\n      <td>20.557788</td>\n      <td>-79.442212</td>\n      <td>-50.642436</td>\n      <td>-44.395599</td>\n    </tr>\n    <tr>\n      <th>2010-02-10</th>\n      <td>2967.138</td>\n      <td>2983.18</td>\n      <td>2958.22</td>\n      <td>2982.500</td>\n      <td>55588005.0</td>\n      <td>2890.02</td>\n      <td>3147.83</td>\n      <td>35.871378</td>\n      <td>-64.128622</td>\n      <td>-47.267768</td>\n      <td>-44.971146</td>\n    </tr>\n    <tr>\n      <th>2010-02-11</th>\n      <td>2985.082</td>\n      <td>3001.64</td>\n      <td>2976.08</td>\n      <td>2985.499</td>\n      <td>56646305.0</td>\n      <td>2890.02</td>\n      <td>3137.00</td>\n      <td>38.658596</td>\n      <td>-61.341404</td>\n      <td>-43.868861</td>\n      <td>-44.750347</td>\n    </tr>\n    <tr>\n      <th>2010-02-12</th>\n      <td>2996.088</td>\n      <td>3018.86</td>\n      <td>2993.44</td>\n      <td>3018.133</td>\n      <td>56092124.0</td>\n      <td>2890.02</td>\n      <td>3107.20</td>\n      <td>58.989318</td>\n      <td>-41.010682</td>\n      <td>-38.336098</td>\n      <td>-43.465907</td>\n    </tr>\n  </tbody>\n</table>\n</div>"
     },
     "execution_count": 8,
     "metadata": {},
     "output_type": "execute_result"
    }
   ],
   "source": [
    "#MACD\n",
    "'''\n",
    "MACD= EMA12-EMA26 量化价格走势的变化\n",
    "signalLine= EMA(MACD) 衡量了价格平均的变化速率\n",
    "'''\n",
    "ema_26 = price_data['close'].transform(lambda x: x.ewm(span = 26).mean())\n",
    "ema_12 = price_data['close'].transform(lambda x: x.ewm(span = 12).mean())\n",
    "macd = ema_12 - ema_26\n",
    "\n",
    "# Calculate the EMA\n",
    "ema_9_macd = macd.ewm(span = 9).mean()\n",
    "\n",
    "# Store the data in the data frame.\n",
    "price_data['MACD'] = macd\n",
    "price_data['MACD_EMA'] = ema_9_macd\n",
    "\n",
    "# Print the head.\n",
    "price_data.head(30)"
   ],
   "metadata": {
    "collapsed": false,
    "pycharm": {
     "name": "#%%\n"
    }
   }
  },
  {
   "cell_type": "code",
   "execution_count": 16,
   "outputs": [
    {
     "data": {
      "text/plain": "                open     high      low     close       volume   low_14  \\\n2010-01-04  3289.750  3295.28  3243.32  3243.760  109447927.0      NaN   \n2010-01-05  3254.468  3290.51  3221.46  3282.179  126115066.0      NaN   \n2010-01-06  3277.517  3295.87  3253.04  3254.215  123651384.0      NaN   \n2010-01-07  3253.991  3268.82  3176.71  3192.776  128652827.0      NaN   \n2010-01-08  3177.259  3198.92  3149.02  3195.997   98377147.0      NaN   \n2010-01-11  3301.611  3306.75  3197.33  3212.750  136327216.0      NaN   \n2010-01-12  3205.705  3275.20  3180.09  3273.966  140655241.0      NaN   \n2010-01-13  3204.976  3232.82  3165.49  3172.658  158344278.0      NaN   \n2010-01-14  3183.381  3219.02  3165.60  3215.550  135954504.0      NaN   \n2010-01-15  3217.190  3241.82  3197.22  3224.152  120541135.0      NaN   \n2010-01-18  3213.637  3238.24  3202.21  3237.098  135067238.0      NaN   \n2010-01-19  3242.216  3268.81  3236.84  3246.874  129943532.0      NaN   \n2010-01-20  3252.037  3255.13  3148.33  3151.850  158243112.0      NaN   \n2010-01-21  3154.189  3176.15  3126.90  3158.863  114337079.0  3126.90   \n2010-01-22  3118.724  3147.83  3062.63  3128.588  137758538.0  3062.63   \n2010-01-25  3103.320  3137.00  3092.93  3094.411   78361862.0  3062.63   \n2010-01-26  3094.848  3107.20  3001.96  3019.394   93507092.0  3001.96   \n2010-01-27  3020.540  3028.65  2972.63  2986.607   76552214.0  2972.63   \n2010-01-28  2985.214  3006.04  2963.89  2994.143   73365767.0  2963.89   \n2010-01-29  2979.743  3024.85  2968.45  2989.292   80475875.0  2963.89   \n2010-02-01  2981.374  2981.37  2912.89  2941.360   88147114.0  2912.89   \n2010-02-02  2955.753  2990.75  2930.56  2934.713   82485789.0  2912.89   \n2010-02-03  2945.034  3005.13  2890.02  3003.835  101022537.0  2890.02   \n2010-02-04  2983.050  3015.13  2968.68  2995.308   99918364.0  2890.02   \n2010-02-05  2936.197  2959.23  2918.91  2939.402   97274989.0  2890.02   \n2010-02-08  2936.452  2954.27  2922.19  2935.174   63299582.0  2890.02   \n2010-02-09  2932.090  2957.47  2929.21  2948.842   62282207.0  2890.02   \n2010-02-10  2967.138  2983.18  2958.22  2982.500   55588005.0  2890.02   \n2010-02-11  2985.082  3001.64  2976.08  2985.499   56646305.0  2890.02   \n2010-02-12  2996.088  3018.86  2993.44  3018.133   56092124.0  2890.02   \n\n            high_14  k_percent  r_percent       MACD   MACD_EMA  \\\n2010-01-04      NaN        NaN        NaN   0.000000   0.000000   \n2010-01-05      NaN        NaN        NaN   0.861965   0.478869   \n2010-01-06      NaN        NaN        NaN   0.231152   0.377346   \n2010-01-07      NaN        NaN        NaN  -2.279650  -0.522721   \n2010-01-08      NaN        NaN        NaN  -3.467820  -1.398821   \n2010-01-11      NaN        NaN        NaN  -3.400519  -1.941392   \n2010-01-12      NaN        NaN        NaN  -0.525597  -1.583092   \n2010-01-13      NaN        NaN        NaN  -3.407613  -2.021559   \n2010-01-14      NaN        NaN        NaN  -3.223477  -2.299208   \n2010-01-15      NaN        NaN        NaN  -2.602875  -2.367247   \n2010-01-18      NaN        NaN        NaN  -1.428210  -2.161791   \n2010-01-19      NaN        NaN        NaN  -0.010568  -1.699799   \n2010-01-20      NaN        NaN        NaN  -4.326799  -2.255763   \n2010-01-21  3306.75  17.772032 -82.227968  -7.094912  -3.268117   \n2010-01-22  3306.75  27.018679 -72.981321 -10.888528  -4.847778   \n2010-01-25  3306.75  13.018597 -86.981403 -15.703068  -7.081716   \n2010-01-26  3306.75   5.720004 -94.279996 -23.822345 -10.506972   \n2010-01-27  3306.75   4.183228 -95.816772 -31.815166 -14.846790   \n2010-01-28  3306.75   8.823718 -91.176282 -37.087325 -19.359938   \n2010-01-29  3275.20   8.159712 -91.840288 -41.019494 -23.742375   \n2010-02-01  3268.81   7.998989 -92.001011 -46.737105 -28.384134   \n2010-02-02  3268.81   6.131434 -93.868566 -51.052707 -32.951550   \n2010-02-03  3268.81  30.046992 -69.953008 -49.098414 -36.200099   \n2010-02-04  3268.81  27.795876 -72.204124 -47.587244 -38.488334   \n2010-02-05  3268.81  13.036775 -86.963225 -49.738340 -40.746867   \n2010-02-08  3255.13  12.367232 -87.632768 -51.126841 -42.829155   \n2010-02-09  3176.15  20.557788 -79.442212 -50.642436 -44.395599   \n2010-02-10  3147.83  35.871378 -64.128622 -47.267768 -44.971146   \n2010-02-11  3137.00  38.658596 -61.341404 -43.868861 -44.750347   \n2010-02-12  3107.20  58.989318 -41.010682 -38.336098 -43.465907   \n\n            Price_Rate_Of_Change  \n2010-01-04                   NaN  \n2010-01-05                   NaN  \n2010-01-06                   NaN  \n2010-01-07                   NaN  \n2010-01-08                   NaN  \n2010-01-11                   NaN  \n2010-01-12                   NaN  \n2010-01-13                   NaN  \n2010-01-14                   NaN  \n2010-01-15             -0.006045  \n2010-01-18             -0.013735  \n2010-01-19             -0.002256  \n2010-01-20             -0.012818  \n2010-01-21             -0.011619  \n2010-01-22             -0.026196  \n2010-01-25             -0.054843  \n2010-01-26             -0.048308  \n2010-01-27             -0.071199  \n2010-01-28             -0.071339  \n2010-01-29             -0.076552  \n2010-02-01             -0.094095  \n2010-02-02             -0.068892  \n2010-02-03             -0.049077  \n2010-02-04             -0.042601  \n2010-02-05             -0.050093  \n2010-02-08             -0.027893  \n2010-02-09             -0.012645  \n2010-02-10             -0.003889  \n2010-02-11             -0.001269  \n2010-02-12              0.026101  ",
      "text/html": "<div>\n<style scoped>\n    .dataframe tbody tr th:only-of-type {\n        vertical-align: middle;\n    }\n\n    .dataframe tbody tr th {\n        vertical-align: top;\n    }\n\n    .dataframe thead th {\n        text-align: right;\n    }\n</style>\n<table border=\"1\" class=\"dataframe\">\n  <thead>\n    <tr style=\"text-align: right;\">\n      <th></th>\n      <th>open</th>\n      <th>high</th>\n      <th>low</th>\n      <th>close</th>\n      <th>volume</th>\n      <th>low_14</th>\n      <th>high_14</th>\n      <th>k_percent</th>\n      <th>r_percent</th>\n      <th>MACD</th>\n      <th>MACD_EMA</th>\n      <th>Price_Rate_Of_Change</th>\n    </tr>\n  </thead>\n  <tbody>\n    <tr>\n      <th>2010-01-04</th>\n      <td>3289.750</td>\n      <td>3295.28</td>\n      <td>3243.32</td>\n      <td>3243.760</td>\n      <td>109447927.0</td>\n      <td>NaN</td>\n      <td>NaN</td>\n      <td>NaN</td>\n      <td>NaN</td>\n      <td>0.000000</td>\n      <td>0.000000</td>\n      <td>NaN</td>\n    </tr>\n    <tr>\n      <th>2010-01-05</th>\n      <td>3254.468</td>\n      <td>3290.51</td>\n      <td>3221.46</td>\n      <td>3282.179</td>\n      <td>126115066.0</td>\n      <td>NaN</td>\n      <td>NaN</td>\n      <td>NaN</td>\n      <td>NaN</td>\n      <td>0.861965</td>\n      <td>0.478869</td>\n      <td>NaN</td>\n    </tr>\n    <tr>\n      <th>2010-01-06</th>\n      <td>3277.517</td>\n      <td>3295.87</td>\n      <td>3253.04</td>\n      <td>3254.215</td>\n      <td>123651384.0</td>\n      <td>NaN</td>\n      <td>NaN</td>\n      <td>NaN</td>\n      <td>NaN</td>\n      <td>0.231152</td>\n      <td>0.377346</td>\n      <td>NaN</td>\n    </tr>\n    <tr>\n      <th>2010-01-07</th>\n      <td>3253.991</td>\n      <td>3268.82</td>\n      <td>3176.71</td>\n      <td>3192.776</td>\n      <td>128652827.0</td>\n      <td>NaN</td>\n      <td>NaN</td>\n      <td>NaN</td>\n      <td>NaN</td>\n      <td>-2.279650</td>\n      <td>-0.522721</td>\n      <td>NaN</td>\n    </tr>\n    <tr>\n      <th>2010-01-08</th>\n      <td>3177.259</td>\n      <td>3198.92</td>\n      <td>3149.02</td>\n      <td>3195.997</td>\n      <td>98377147.0</td>\n      <td>NaN</td>\n      <td>NaN</td>\n      <td>NaN</td>\n      <td>NaN</td>\n      <td>-3.467820</td>\n      <td>-1.398821</td>\n      <td>NaN</td>\n    </tr>\n    <tr>\n      <th>2010-01-11</th>\n      <td>3301.611</td>\n      <td>3306.75</td>\n      <td>3197.33</td>\n      <td>3212.750</td>\n      <td>136327216.0</td>\n      <td>NaN</td>\n      <td>NaN</td>\n      <td>NaN</td>\n      <td>NaN</td>\n      <td>-3.400519</td>\n      <td>-1.941392</td>\n      <td>NaN</td>\n    </tr>\n    <tr>\n      <th>2010-01-12</th>\n      <td>3205.705</td>\n      <td>3275.20</td>\n      <td>3180.09</td>\n      <td>3273.966</td>\n      <td>140655241.0</td>\n      <td>NaN</td>\n      <td>NaN</td>\n      <td>NaN</td>\n      <td>NaN</td>\n      <td>-0.525597</td>\n      <td>-1.583092</td>\n      <td>NaN</td>\n    </tr>\n    <tr>\n      <th>2010-01-13</th>\n      <td>3204.976</td>\n      <td>3232.82</td>\n      <td>3165.49</td>\n      <td>3172.658</td>\n      <td>158344278.0</td>\n      <td>NaN</td>\n      <td>NaN</td>\n      <td>NaN</td>\n      <td>NaN</td>\n      <td>-3.407613</td>\n      <td>-2.021559</td>\n      <td>NaN</td>\n    </tr>\n    <tr>\n      <th>2010-01-14</th>\n      <td>3183.381</td>\n      <td>3219.02</td>\n      <td>3165.60</td>\n      <td>3215.550</td>\n      <td>135954504.0</td>\n      <td>NaN</td>\n      <td>NaN</td>\n      <td>NaN</td>\n      <td>NaN</td>\n      <td>-3.223477</td>\n      <td>-2.299208</td>\n      <td>NaN</td>\n    </tr>\n    <tr>\n      <th>2010-01-15</th>\n      <td>3217.190</td>\n      <td>3241.82</td>\n      <td>3197.22</td>\n      <td>3224.152</td>\n      <td>120541135.0</td>\n      <td>NaN</td>\n      <td>NaN</td>\n      <td>NaN</td>\n      <td>NaN</td>\n      <td>-2.602875</td>\n      <td>-2.367247</td>\n      <td>-0.006045</td>\n    </tr>\n    <tr>\n      <th>2010-01-18</th>\n      <td>3213.637</td>\n      <td>3238.24</td>\n      <td>3202.21</td>\n      <td>3237.098</td>\n      <td>135067238.0</td>\n      <td>NaN</td>\n      <td>NaN</td>\n      <td>NaN</td>\n      <td>NaN</td>\n      <td>-1.428210</td>\n      <td>-2.161791</td>\n      <td>-0.013735</td>\n    </tr>\n    <tr>\n      <th>2010-01-19</th>\n      <td>3242.216</td>\n      <td>3268.81</td>\n      <td>3236.84</td>\n      <td>3246.874</td>\n      <td>129943532.0</td>\n      <td>NaN</td>\n      <td>NaN</td>\n      <td>NaN</td>\n      <td>NaN</td>\n      <td>-0.010568</td>\n      <td>-1.699799</td>\n      <td>-0.002256</td>\n    </tr>\n    <tr>\n      <th>2010-01-20</th>\n      <td>3252.037</td>\n      <td>3255.13</td>\n      <td>3148.33</td>\n      <td>3151.850</td>\n      <td>158243112.0</td>\n      <td>NaN</td>\n      <td>NaN</td>\n      <td>NaN</td>\n      <td>NaN</td>\n      <td>-4.326799</td>\n      <td>-2.255763</td>\n      <td>-0.012818</td>\n    </tr>\n    <tr>\n      <th>2010-01-21</th>\n      <td>3154.189</td>\n      <td>3176.15</td>\n      <td>3126.90</td>\n      <td>3158.863</td>\n      <td>114337079.0</td>\n      <td>3126.90</td>\n      <td>3306.75</td>\n      <td>17.772032</td>\n      <td>-82.227968</td>\n      <td>-7.094912</td>\n      <td>-3.268117</td>\n      <td>-0.011619</td>\n    </tr>\n    <tr>\n      <th>2010-01-22</th>\n      <td>3118.724</td>\n      <td>3147.83</td>\n      <td>3062.63</td>\n      <td>3128.588</td>\n      <td>137758538.0</td>\n      <td>3062.63</td>\n      <td>3306.75</td>\n      <td>27.018679</td>\n      <td>-72.981321</td>\n      <td>-10.888528</td>\n      <td>-4.847778</td>\n      <td>-0.026196</td>\n    </tr>\n    <tr>\n      <th>2010-01-25</th>\n      <td>3103.320</td>\n      <td>3137.00</td>\n      <td>3092.93</td>\n      <td>3094.411</td>\n      <td>78361862.0</td>\n      <td>3062.63</td>\n      <td>3306.75</td>\n      <td>13.018597</td>\n      <td>-86.981403</td>\n      <td>-15.703068</td>\n      <td>-7.081716</td>\n      <td>-0.054843</td>\n    </tr>\n    <tr>\n      <th>2010-01-26</th>\n      <td>3094.848</td>\n      <td>3107.20</td>\n      <td>3001.96</td>\n      <td>3019.394</td>\n      <td>93507092.0</td>\n      <td>3001.96</td>\n      <td>3306.75</td>\n      <td>5.720004</td>\n      <td>-94.279996</td>\n      <td>-23.822345</td>\n      <td>-10.506972</td>\n      <td>-0.048308</td>\n    </tr>\n    <tr>\n      <th>2010-01-27</th>\n      <td>3020.540</td>\n      <td>3028.65</td>\n      <td>2972.63</td>\n      <td>2986.607</td>\n      <td>76552214.0</td>\n      <td>2972.63</td>\n      <td>3306.75</td>\n      <td>4.183228</td>\n      <td>-95.816772</td>\n      <td>-31.815166</td>\n      <td>-14.846790</td>\n      <td>-0.071199</td>\n    </tr>\n    <tr>\n      <th>2010-01-28</th>\n      <td>2985.214</td>\n      <td>3006.04</td>\n      <td>2963.89</td>\n      <td>2994.143</td>\n      <td>73365767.0</td>\n      <td>2963.89</td>\n      <td>3306.75</td>\n      <td>8.823718</td>\n      <td>-91.176282</td>\n      <td>-37.087325</td>\n      <td>-19.359938</td>\n      <td>-0.071339</td>\n    </tr>\n    <tr>\n      <th>2010-01-29</th>\n      <td>2979.743</td>\n      <td>3024.85</td>\n      <td>2968.45</td>\n      <td>2989.292</td>\n      <td>80475875.0</td>\n      <td>2963.89</td>\n      <td>3275.20</td>\n      <td>8.159712</td>\n      <td>-91.840288</td>\n      <td>-41.019494</td>\n      <td>-23.742375</td>\n      <td>-0.076552</td>\n    </tr>\n    <tr>\n      <th>2010-02-01</th>\n      <td>2981.374</td>\n      <td>2981.37</td>\n      <td>2912.89</td>\n      <td>2941.360</td>\n      <td>88147114.0</td>\n      <td>2912.89</td>\n      <td>3268.81</td>\n      <td>7.998989</td>\n      <td>-92.001011</td>\n      <td>-46.737105</td>\n      <td>-28.384134</td>\n      <td>-0.094095</td>\n    </tr>\n    <tr>\n      <th>2010-02-02</th>\n      <td>2955.753</td>\n      <td>2990.75</td>\n      <td>2930.56</td>\n      <td>2934.713</td>\n      <td>82485789.0</td>\n      <td>2912.89</td>\n      <td>3268.81</td>\n      <td>6.131434</td>\n      <td>-93.868566</td>\n      <td>-51.052707</td>\n      <td>-32.951550</td>\n      <td>-0.068892</td>\n    </tr>\n    <tr>\n      <th>2010-02-03</th>\n      <td>2945.034</td>\n      <td>3005.13</td>\n      <td>2890.02</td>\n      <td>3003.835</td>\n      <td>101022537.0</td>\n      <td>2890.02</td>\n      <td>3268.81</td>\n      <td>30.046992</td>\n      <td>-69.953008</td>\n      <td>-49.098414</td>\n      <td>-36.200099</td>\n      <td>-0.049077</td>\n    </tr>\n    <tr>\n      <th>2010-02-04</th>\n      <td>2983.050</td>\n      <td>3015.13</td>\n      <td>2968.68</td>\n      <td>2995.308</td>\n      <td>99918364.0</td>\n      <td>2890.02</td>\n      <td>3268.81</td>\n      <td>27.795876</td>\n      <td>-72.204124</td>\n      <td>-47.587244</td>\n      <td>-38.488334</td>\n      <td>-0.042601</td>\n    </tr>\n    <tr>\n      <th>2010-02-05</th>\n      <td>2936.197</td>\n      <td>2959.23</td>\n      <td>2918.91</td>\n      <td>2939.402</td>\n      <td>97274989.0</td>\n      <td>2890.02</td>\n      <td>3268.81</td>\n      <td>13.036775</td>\n      <td>-86.963225</td>\n      <td>-49.738340</td>\n      <td>-40.746867</td>\n      <td>-0.050093</td>\n    </tr>\n    <tr>\n      <th>2010-02-08</th>\n      <td>2936.452</td>\n      <td>2954.27</td>\n      <td>2922.19</td>\n      <td>2935.174</td>\n      <td>63299582.0</td>\n      <td>2890.02</td>\n      <td>3255.13</td>\n      <td>12.367232</td>\n      <td>-87.632768</td>\n      <td>-51.126841</td>\n      <td>-42.829155</td>\n      <td>-0.027893</td>\n    </tr>\n    <tr>\n      <th>2010-02-09</th>\n      <td>2932.090</td>\n      <td>2957.47</td>\n      <td>2929.21</td>\n      <td>2948.842</td>\n      <td>62282207.0</td>\n      <td>2890.02</td>\n      <td>3176.15</td>\n      <td>20.557788</td>\n      <td>-79.442212</td>\n      <td>-50.642436</td>\n      <td>-44.395599</td>\n      <td>-0.012645</td>\n    </tr>\n    <tr>\n      <th>2010-02-10</th>\n      <td>2967.138</td>\n      <td>2983.18</td>\n      <td>2958.22</td>\n      <td>2982.500</td>\n      <td>55588005.0</td>\n      <td>2890.02</td>\n      <td>3147.83</td>\n      <td>35.871378</td>\n      <td>-64.128622</td>\n      <td>-47.267768</td>\n      <td>-44.971146</td>\n      <td>-0.003889</td>\n    </tr>\n    <tr>\n      <th>2010-02-11</th>\n      <td>2985.082</td>\n      <td>3001.64</td>\n      <td>2976.08</td>\n      <td>2985.499</td>\n      <td>56646305.0</td>\n      <td>2890.02</td>\n      <td>3137.00</td>\n      <td>38.658596</td>\n      <td>-61.341404</td>\n      <td>-43.868861</td>\n      <td>-44.750347</td>\n      <td>-0.001269</td>\n    </tr>\n    <tr>\n      <th>2010-02-12</th>\n      <td>2996.088</td>\n      <td>3018.86</td>\n      <td>2993.44</td>\n      <td>3018.133</td>\n      <td>56092124.0</td>\n      <td>2890.02</td>\n      <td>3107.20</td>\n      <td>58.989318</td>\n      <td>-41.010682</td>\n      <td>-38.336098</td>\n      <td>-43.465907</td>\n      <td>0.026101</td>\n    </tr>\n  </tbody>\n</table>\n</div>"
     },
     "execution_count": 16,
     "metadata": {},
     "output_type": "execute_result"
    }
   ],
   "source": [
    "# Calculate the Price Rate of Change\n",
    "n = 9\n",
    "\n",
    "# Calculate the Rate of Change in the Price, and store it in the Data Frame.\n",
    "price_data['Price_Rate_Of_Change'] = price_data['close'].transform(lambda x: x.pct_change(periods = n))\n",
    "\n",
    "# Print the first 30 rows\n",
    "price_data.head(30)"
   ],
   "metadata": {
    "collapsed": false,
    "pycharm": {
     "name": "#%%\n"
    }
   }
  },
  {
   "cell_type": "code",
   "execution_count": 15,
   "outputs": [
    {
     "data": {
      "text/plain": "2010-01-04    0.000000e+00\n2010-01-05    1.261151e+08\n2010-01-06    2.463682e+06\n2010-01-07   -1.261891e+08\n2010-01-08   -2.781200e+07\n                  ...     \n2020-07-13    5.100935e+10\n2020-07-14    5.046613e+10\n2020-07-15    4.997410e+10\n2020-07-16    4.948349e+10\n2020-07-17    4.984314e+10\nLength: 2561, dtype: float64"
     },
     "execution_count": 15,
     "metadata": {},
     "output_type": "execute_result"
    }
   ],
   "source": [
    "#OBV\n",
    "def obv(group):\n",
    "\n",
    "    # Grab the volume and close column.\n",
    "    change = group['close'].diff()\n",
    "    volume = group['volume']\n",
    "\n",
    "\n",
    "    # intialize the previous OBV\n",
    "    prev_obv = 0\n",
    "    obv_values = []\n",
    "\n",
    "    # calculate the On Balance Volume\n",
    "    for i, j in zip(change, volume):\n",
    "\n",
    "        if i > 0:\n",
    "            current_obv = prev_obv + j\n",
    "        elif i < 0:\n",
    "            current_obv = prev_obv - j\n",
    "        else:\n",
    "            current_obv = prev_obv\n",
    "\n",
    "        # OBV.append(current_OBV)\n",
    "        prev_obv = current_obv\n",
    "        obv_values.append(current_obv)\n",
    "\n",
    "    # Return a panda series.\n",
    "    return pd.Series(obv_values, index = group.index)\n",
    "\n",
    "\n"
   ],
   "metadata": {
    "collapsed": false,
    "pycharm": {
     "name": "#%%\n"
    }
   }
  },
  {
   "cell_type": "code",
   "execution_count": null,
   "outputs": [],
   "source": [
    "\n"
   ],
   "metadata": {
    "collapsed": false,
    "pycharm": {
     "name": "#%%\n"
    }
   }
  }
 ],
 "metadata": {
  "kernelspec": {
   "display_name": "Python 3",
   "language": "python",
   "name": "python3"
  },
  "language_info": {
   "codemirror_mode": {
    "name": "ipython",
    "version": 2
   },
   "file_extension": ".py",
   "mimetype": "text/x-python",
   "name": "python",
   "nbconvert_exporter": "python",
   "pygments_lexer": "ipython2",
   "version": "2.7.6"
  }
 },
 "nbformat": 4,
 "nbformat_minor": 0
}