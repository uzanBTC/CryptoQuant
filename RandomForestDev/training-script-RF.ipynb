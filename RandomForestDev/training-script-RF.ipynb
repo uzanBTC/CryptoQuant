{
 "cells": [
  {
   "cell_type": "code",
   "execution_count": 22,
   "outputs": [],
   "source": [
    "import joblib\n",
    "'''\n",
    "Pre-process raw data\n",
    "'''\n",
    "from sklearn.metrics import accuracy_score, classification_report\n",
    "from RandomForestDev.TestData import generateTestData\n",
    "from sklearn.ensemble import RandomForestClassifier\n",
    "from sklearn.model_selection import train_test_split\n",
    "import pandas as pd\n",
    "from sklearn.metrics import confusion_matrix\n",
    "\n",
    "def get_matrix(y_test,y_pred):\n",
    "    #Confusion Matrix\n",
    "\n",
    "    rf_matrix = confusion_matrix(y_test, y_pred)\n",
    "\n",
    "    true_negatives = rf_matrix[0][0]\n",
    "    false_negatives = rf_matrix[1][0]\n",
    "    true_positives = rf_matrix[1][1]\n",
    "    false_positives = rf_matrix[0][1]\n",
    "\n",
    "    accuracy = (true_negatives + true_positives) / (true_negatives + true_positives + false_negatives + false_positives)\n",
    "    percision = true_positives / (true_positives + false_positives)\n",
    "    recall = true_positives / (true_positives + false_negatives)\n",
    "    specificity = true_negatives / (true_negatives + false_positives)\n",
    "\n",
    "\n",
    "    print(\"====================\")\n",
    "    print('Accuracy: {}'.format(float(accuracy)))\n",
    "    print('Percision: {}'.format(float(percision)))\n",
    "    print('Recall: {}'.format(float(recall)))\n",
    "    print('Specificity: {}'.format(float(specificity)))\n",
    "    print(\"====================\")\n",
    "\n",
    "\n",
    "def model_load(path):\n",
    "    rfc = joblib.load(path)\n",
    "    return rfc\n",
    "\n",
    "def model_save(model,path):\n",
    "    joblib.dump(model,path)"
   ],
   "metadata": {
    "collapsed": false,
    "pycharm": {
     "name": "#%%\n"
    }
   }
  },
  {
   "cell_type": "code",
   "execution_count": 16,
   "metadata": {
    "collapsed": true
   },
   "outputs": [
    {
     "name": "stderr",
     "output_type": "stream",
     "text": [
      "c:\\users\\79285\\appdata\\local\\programs\\python\\python39\\lib\\site-packages\\pandas\\core\\indexing.py:692: SettingWithCopyWarning: \n",
      "A value is trying to be set on a copy of a slice from a DataFrame\n",
      "\n",
      "See the caveats in the documentation: https://pandas.pydata.org/pandas-docs/stable/user_guide/indexing.html#returning-a-view-versus-a-copy\n",
      "  iloc._setitem_with_indexer(indexer, value, self.name)\n",
      "c:\\users\\79285\\appdata\\local\\programs\\python\\python39\\lib\\site-packages\\pandas\\core\\indexing.py:1637: SettingWithCopyWarning: \n",
      "A value is trying to be set on a copy of a slice from a DataFrame\n",
      "\n",
      "See the caveats in the documentation: https://pandas.pydata.org/pandas-docs/stable/user_guide/indexing.html#returning-a-view-versus-a-copy\n",
      "  self._setitem_single_block(indexer, value, name)\n",
      "c:\\users\\79285\\appdata\\local\\programs\\python\\python39\\lib\\site-packages\\pandas\\core\\indexing.py:692: SettingWithCopyWarning: \n",
      "A value is trying to be set on a copy of a slice from a DataFrame\n",
      "\n",
      "See the caveats in the documentation: https://pandas.pydata.org/pandas-docs/stable/user_guide/indexing.html#returning-a-view-versus-a-copy\n",
      "  iloc._setitem_with_indexer(indexer, value, self.name)\n",
      "c:\\users\\79285\\appdata\\local\\programs\\python\\python39\\lib\\site-packages\\pandas\\core\\indexing.py:1637: SettingWithCopyWarning: \n",
      "A value is trying to be set on a copy of a slice from a DataFrame\n",
      "\n",
      "See the caveats in the documentation: https://pandas.pydata.org/pandas-docs/stable/user_guide/indexing.html#returning-a-view-versus-a-copy\n",
      "  self._setitem_single_block(indexer, value, name)\n",
      "c:\\users\\79285\\appdata\\local\\programs\\python\\python39\\lib\\site-packages\\pandas\\core\\indexing.py:692: SettingWithCopyWarning: \n",
      "A value is trying to be set on a copy of a slice from a DataFrame\n",
      "\n",
      "See the caveats in the documentation: https://pandas.pydata.org/pandas-docs/stable/user_guide/indexing.html#returning-a-view-versus-a-copy\n",
      "  iloc._setitem_with_indexer(indexer, value, self.name)\n",
      "D:\\quant\\cryptoQuant\\RandomForestDev\\Indicators\\RSI.py:22: SettingWithCopyWarning: \n",
      "A value is trying to be set on a copy of a slice from a DataFrame.\n",
      "Try using .loc[row_indexer,col_indexer] = value instead\n",
      "\n",
      "See the caveats in the documentation: https://pandas.pydata.org/pandas-docs/stable/user_guide/indexing.html#returning-a-view-versus-a-copy\n",
      "  down_df['change_in_price'] = down_df['change_in_price'].abs()\n",
      "c:\\users\\79285\\appdata\\local\\programs\\python\\python39\\lib\\site-packages\\pandas\\core\\indexing.py:692: SettingWithCopyWarning: \n",
      "A value is trying to be set on a copy of a slice from a DataFrame\n",
      "\n",
      "See the caveats in the documentation: https://pandas.pydata.org/pandas-docs/stable/user_guide/indexing.html#returning-a-view-versus-a-copy\n",
      "  iloc._setitem_with_indexer(indexer, value, self.name)\n",
      "c:\\users\\79285\\appdata\\local\\programs\\python\\python39\\lib\\site-packages\\pandas\\core\\indexing.py:1637: SettingWithCopyWarning: \n",
      "A value is trying to be set on a copy of a slice from a DataFrame\n",
      "\n",
      "See the caveats in the documentation: https://pandas.pydata.org/pandas-docs/stable/user_guide/indexing.html#returning-a-view-versus-a-copy\n",
      "  self._setitem_single_block(indexer, value, name)\n",
      "c:\\users\\79285\\appdata\\local\\programs\\python\\python39\\lib\\site-packages\\pandas\\core\\indexing.py:692: SettingWithCopyWarning: \n",
      "A value is trying to be set on a copy of a slice from a DataFrame\n",
      "\n",
      "See the caveats in the documentation: https://pandas.pydata.org/pandas-docs/stable/user_guide/indexing.html#returning-a-view-versus-a-copy\n",
      "  iloc._setitem_with_indexer(indexer, value, self.name)\n",
      "c:\\users\\79285\\appdata\\local\\programs\\python\\python39\\lib\\site-packages\\pandas\\core\\indexing.py:1637: SettingWithCopyWarning: \n",
      "A value is trying to be set on a copy of a slice from a DataFrame\n",
      "\n",
      "See the caveats in the documentation: https://pandas.pydata.org/pandas-docs/stable/user_guide/indexing.html#returning-a-view-versus-a-copy\n",
      "  self._setitem_single_block(indexer, value, name)\n",
      "c:\\users\\79285\\appdata\\local\\programs\\python\\python39\\lib\\site-packages\\pandas\\core\\indexing.py:692: SettingWithCopyWarning: \n",
      "A value is trying to be set on a copy of a slice from a DataFrame\n",
      "\n",
      "See the caveats in the documentation: https://pandas.pydata.org/pandas-docs/stable/user_guide/indexing.html#returning-a-view-versus-a-copy\n",
      "  iloc._setitem_with_indexer(indexer, value, self.name)\n",
      "D:\\quant\\cryptoQuant\\RandomForestDev\\Indicators\\RSI.py:22: SettingWithCopyWarning: \n",
      "A value is trying to be set on a copy of a slice from a DataFrame.\n",
      "Try using .loc[row_indexer,col_indexer] = value instead\n",
      "\n",
      "See the caveats in the documentation: https://pandas.pydata.org/pandas-docs/stable/user_guide/indexing.html#returning-a-view-versus-a-copy\n",
      "  down_df['change_in_price'] = down_df['change_in_price'].abs()\n",
      "c:\\users\\79285\\appdata\\local\\programs\\python\\python39\\lib\\site-packages\\pandas\\core\\indexing.py:692: SettingWithCopyWarning: \n",
      "A value is trying to be set on a copy of a slice from a DataFrame\n",
      "\n",
      "See the caveats in the documentation: https://pandas.pydata.org/pandas-docs/stable/user_guide/indexing.html#returning-a-view-versus-a-copy\n",
      "  iloc._setitem_with_indexer(indexer, value, self.name)\n",
      "c:\\users\\79285\\appdata\\local\\programs\\python\\python39\\lib\\site-packages\\pandas\\core\\indexing.py:1637: SettingWithCopyWarning: \n",
      "A value is trying to be set on a copy of a slice from a DataFrame\n",
      "\n",
      "See the caveats in the documentation: https://pandas.pydata.org/pandas-docs/stable/user_guide/indexing.html#returning-a-view-versus-a-copy\n",
      "  self._setitem_single_block(indexer, value, name)\n",
      "c:\\users\\79285\\appdata\\local\\programs\\python\\python39\\lib\\site-packages\\pandas\\core\\indexing.py:692: SettingWithCopyWarning: \n",
      "A value is trying to be set on a copy of a slice from a DataFrame\n",
      "\n",
      "See the caveats in the documentation: https://pandas.pydata.org/pandas-docs/stable/user_guide/indexing.html#returning-a-view-versus-a-copy\n",
      "  iloc._setitem_with_indexer(indexer, value, self.name)\n",
      "c:\\users\\79285\\appdata\\local\\programs\\python\\python39\\lib\\site-packages\\pandas\\core\\indexing.py:1637: SettingWithCopyWarning: \n",
      "A value is trying to be set on a copy of a slice from a DataFrame\n",
      "\n",
      "See the caveats in the documentation: https://pandas.pydata.org/pandas-docs/stable/user_guide/indexing.html#returning-a-view-versus-a-copy\n",
      "  self._setitem_single_block(indexer, value, name)\n",
      "c:\\users\\79285\\appdata\\local\\programs\\python\\python39\\lib\\site-packages\\pandas\\core\\indexing.py:692: SettingWithCopyWarning: \n",
      "A value is trying to be set on a copy of a slice from a DataFrame\n",
      "\n",
      "See the caveats in the documentation: https://pandas.pydata.org/pandas-docs/stable/user_guide/indexing.html#returning-a-view-versus-a-copy\n",
      "  iloc._setitem_with_indexer(indexer, value, self.name)\n",
      "D:\\quant\\cryptoQuant\\RandomForestDev\\Indicators\\RSI.py:22: SettingWithCopyWarning: \n",
      "A value is trying to be set on a copy of a slice from a DataFrame.\n",
      "Try using .loc[row_indexer,col_indexer] = value instead\n",
      "\n",
      "See the caveats in the documentation: https://pandas.pydata.org/pandas-docs/stable/user_guide/indexing.html#returning-a-view-versus-a-copy\n",
      "  down_df['change_in_price'] = down_df['change_in_price'].abs()\n",
      "c:\\users\\79285\\appdata\\local\\programs\\python\\python39\\lib\\site-packages\\pandas\\core\\indexing.py:692: SettingWithCopyWarning: \n",
      "A value is trying to be set on a copy of a slice from a DataFrame\n",
      "\n",
      "See the caveats in the documentation: https://pandas.pydata.org/pandas-docs/stable/user_guide/indexing.html#returning-a-view-versus-a-copy\n",
      "  iloc._setitem_with_indexer(indexer, value, self.name)\n",
      "c:\\users\\79285\\appdata\\local\\programs\\python\\python39\\lib\\site-packages\\pandas\\core\\indexing.py:1637: SettingWithCopyWarning: \n",
      "A value is trying to be set on a copy of a slice from a DataFrame\n",
      "\n",
      "See the caveats in the documentation: https://pandas.pydata.org/pandas-docs/stable/user_guide/indexing.html#returning-a-view-versus-a-copy\n",
      "  self._setitem_single_block(indexer, value, name)\n",
      "c:\\users\\79285\\appdata\\local\\programs\\python\\python39\\lib\\site-packages\\pandas\\core\\indexing.py:692: SettingWithCopyWarning: \n",
      "A value is trying to be set on a copy of a slice from a DataFrame\n",
      "\n",
      "See the caveats in the documentation: https://pandas.pydata.org/pandas-docs/stable/user_guide/indexing.html#returning-a-view-versus-a-copy\n",
      "  iloc._setitem_with_indexer(indexer, value, self.name)\n",
      "c:\\users\\79285\\appdata\\local\\programs\\python\\python39\\lib\\site-packages\\pandas\\core\\indexing.py:1637: SettingWithCopyWarning: \n",
      "A value is trying to be set on a copy of a slice from a DataFrame\n",
      "\n",
      "See the caveats in the documentation: https://pandas.pydata.org/pandas-docs/stable/user_guide/indexing.html#returning-a-view-versus-a-copy\n",
      "  self._setitem_single_block(indexer, value, name)\n",
      "c:\\users\\79285\\appdata\\local\\programs\\python\\python39\\lib\\site-packages\\pandas\\core\\indexing.py:692: SettingWithCopyWarning: \n",
      "A value is trying to be set on a copy of a slice from a DataFrame\n",
      "\n",
      "See the caveats in the documentation: https://pandas.pydata.org/pandas-docs/stable/user_guide/indexing.html#returning-a-view-versus-a-copy\n",
      "  iloc._setitem_with_indexer(indexer, value, self.name)\n",
      "D:\\quant\\cryptoQuant\\RandomForestDev\\Indicators\\RSI.py:22: SettingWithCopyWarning: \n",
      "A value is trying to be set on a copy of a slice from a DataFrame.\n",
      "Try using .loc[row_indexer,col_indexer] = value instead\n",
      "\n",
      "See the caveats in the documentation: https://pandas.pydata.org/pandas-docs/stable/user_guide/indexing.html#returning-a-view-versus-a-copy\n",
      "  down_df['change_in_price'] = down_df['change_in_price'].abs()\n",
      "c:\\users\\79285\\appdata\\local\\programs\\python\\python39\\lib\\site-packages\\pandas\\core\\indexing.py:692: SettingWithCopyWarning: \n",
      "A value is trying to be set on a copy of a slice from a DataFrame\n",
      "\n",
      "See the caveats in the documentation: https://pandas.pydata.org/pandas-docs/stable/user_guide/indexing.html#returning-a-view-versus-a-copy\n",
      "  iloc._setitem_with_indexer(indexer, value, self.name)\n",
      "c:\\users\\79285\\appdata\\local\\programs\\python\\python39\\lib\\site-packages\\pandas\\core\\indexing.py:1637: SettingWithCopyWarning: \n",
      "A value is trying to be set on a copy of a slice from a DataFrame\n",
      "\n",
      "See the caveats in the documentation: https://pandas.pydata.org/pandas-docs/stable/user_guide/indexing.html#returning-a-view-versus-a-copy\n",
      "  self._setitem_single_block(indexer, value, name)\n",
      "c:\\users\\79285\\appdata\\local\\programs\\python\\python39\\lib\\site-packages\\pandas\\core\\indexing.py:692: SettingWithCopyWarning: \n",
      "A value is trying to be set on a copy of a slice from a DataFrame\n",
      "\n",
      "See the caveats in the documentation: https://pandas.pydata.org/pandas-docs/stable/user_guide/indexing.html#returning-a-view-versus-a-copy\n",
      "  iloc._setitem_with_indexer(indexer, value, self.name)\n",
      "c:\\users\\79285\\appdata\\local\\programs\\python\\python39\\lib\\site-packages\\pandas\\core\\indexing.py:1637: SettingWithCopyWarning: \n",
      "A value is trying to be set on a copy of a slice from a DataFrame\n",
      "\n",
      "See the caveats in the documentation: https://pandas.pydata.org/pandas-docs/stable/user_guide/indexing.html#returning-a-view-versus-a-copy\n",
      "  self._setitem_single_block(indexer, value, name)\n",
      "c:\\users\\79285\\appdata\\local\\programs\\python\\python39\\lib\\site-packages\\pandas\\core\\indexing.py:692: SettingWithCopyWarning: \n",
      "A value is trying to be set on a copy of a slice from a DataFrame\n",
      "\n",
      "See the caveats in the documentation: https://pandas.pydata.org/pandas-docs/stable/user_guide/indexing.html#returning-a-view-versus-a-copy\n",
      "  iloc._setitem_with_indexer(indexer, value, self.name)\n",
      "D:\\quant\\cryptoQuant\\RandomForestDev\\Indicators\\RSI.py:22: SettingWithCopyWarning: \n",
      "A value is trying to be set on a copy of a slice from a DataFrame.\n",
      "Try using .loc[row_indexer,col_indexer] = value instead\n",
      "\n",
      "See the caveats in the documentation: https://pandas.pydata.org/pandas-docs/stable/user_guide/indexing.html#returning-a-view-versus-a-copy\n",
      "  down_df['change_in_price'] = down_df['change_in_price'].abs()\n"
     ]
    },
    {
     "data": {
      "text/plain": "                           rsi  obv_ratio    william        kdj    ema3v8  \\\n2020-03-01 08:00:00  24.477686 -24.457908 -82.414198  17.585802 -0.041414   \n2020-03-02 08:00:00  39.587721 -34.858903 -67.747140  32.252860 -0.020893   \n2020-03-03 08:00:00  37.715750  17.921754 -70.348229  29.651771 -0.013615   \n2020-03-04 08:00:00  41.902922   4.199069 -59.405763  40.594237 -0.005280   \n2020-03-05 08:00:00  52.160183  -0.195292 -45.355289  54.644711  0.009400   \n2020-03-06 08:00:00  58.836641  -2.872473 -34.168606  65.831394  0.022357   \n2020-03-07 08:00:00  45.752099  -0.738167 -54.036155  45.963845  0.009847   \n2020-03-08 08:00:00  25.710466   2.049331 -97.231097   2.768903 -0.043777   \n2020-03-09 08:00:00  24.575868   4.067488 -85.219932  14.780068 -0.066540   \n2020-03-10 08:00:00  27.695718   1.380328 -80.104201  19.895799 -0.065147   \n2020-03-11 08:00:00  26.443309   2.126224 -81.597605  18.402395 -0.062011   \n2020-03-12 08:00:00  10.690839   4.661062 -96.867489   3.132511 -0.185991   \n2020-03-13 08:00:00  22.874832  -0.051666 -69.602163  30.397837 -0.195468   \n2020-03-14 08:00:00  21.238059   0.801803 -74.900219  25.099781 -0.201636   \n2020-03-15 08:00:00  23.225148   0.020248 -73.239346  26.760654 -0.180696   \n2020-03-16 08:00:00  20.931872   1.203164 -79.490151  20.509849 -0.179636   \n2020-03-17 08:00:00  27.863941   0.377059 -74.217845  25.782155 -0.141296   \n2020-03-18 08:00:00  29.184718  -0.187592 -73.245783  26.754217 -0.107361   \n2020-03-19 08:00:00  43.901167  -0.987954 -61.175486  38.824514 -0.034958   \n2020-03-20 08:00:00  41.989496  -0.145768 -62.821017  37.178983 -0.011930   \n2020-03-21 08:00:00  43.504462  -0.782216 -58.208636  41.791364  0.002770   \n2020-03-22 08:00:00  37.855041  -0.081075 -56.149256  43.850744 -0.014153   \n2020-03-23 08:00:00  46.479453  -0.722648 -47.066167  52.933833  0.004870   \n2020-03-24 08:00:00  48.374597  -1.242203 -43.376480  56.623520  0.016946   \n2020-03-25 08:00:00  47.537420  -0.694320 -41.608930  58.391070  0.017326   \n2020-03-26 08:00:00  55.514481  -1.039164  -6.634499  93.365501  0.035586   \n2020-03-27 08:00:00  47.330748  -0.578312 -25.954486  74.045514  0.018829   \n2020-03-28 08:00:00  46.073307  -0.200829 -28.625165  71.374835  0.007033   \n2020-03-29 08:00:00  38.522344   0.066326 -45.702464  54.297536 -0.019272   \n2020-03-30 08:00:00  47.823987  -0.256939 -36.010066  63.989934 -0.007646   \n2020-03-31 08:00:00  51.877355  -0.650748 -28.744739  71.255261  0.007166   \n2020-04-01 08:00:00  53.589757  -1.107431 -28.707995  71.292005  0.015829   \n2020-04-02 08:00:00  56.744768  -2.039454 -21.664733  78.335267  0.023982   \n2020-04-03 08:00:00  60.358723  -2.962526 -13.244147  86.755853  0.031881   \n2020-04-04 08:00:00  64.476077  -5.554159  -8.216677  91.783323  0.040032   \n2020-04-05 08:00:00  63.008770  -6.146394 -10.712112  89.287888  0.036724   \n2020-04-06 08:00:00  74.957473 -31.650812  -1.073122  98.926878  0.061028   \n2020-04-07 08:00:00  67.162278  17.321143 -18.357826  81.642174  0.053642   \n2020-04-08 08:00:00  70.051166   7.861890  -9.657103  90.342897  0.051690   \n2020-04-09 08:00:00  68.467369   4.208880 -11.639841  88.360159  0.043310   \n2020-04-10 08:00:00  48.887128   1.317414 -42.080709  57.919291  0.010269   \n2020-04-11 08:00:00  50.098443   1.796025 -39.841381  60.158619 -0.002007   \n2020-04-12 08:00:00  56.133528   2.042813 -28.574761  71.425239  0.002934   \n2020-04-13 08:00:00  63.626364   3.147631 -14.414414  85.585586  0.018293   \n2020-04-14 08:00:00  68.748971   3.820879  -9.038558  90.961442  0.033096   \n2020-04-15 08:00:00  53.399040   2.196276 -40.822235  59.177765  0.015378   \n2020-04-16 08:00:00  63.958768   2.425267  -7.133465  92.866535  0.028972   \n2020-04-17 08:00:00  62.226774   1.512158 -12.207239  87.792761  0.028440   \n2020-04-18 08:00:00  69.504530   1.555932  -7.121923  92.878077  0.042169   \n2020-04-19 08:00:00  61.786923   0.960190 -23.396675  76.603325  0.032899   \n\n                      ema8v21  atr_ratio  prediction  \n2020-03-01 08:00:00 -0.062771  -0.193895           0  \n2020-03-02 08:00:00 -0.056712  -0.277253           0  \n2020-03-03 08:00:00 -0.052557  -0.345050           0  \n2020-03-04 08:00:00 -0.046831  -0.451555           0  \n2020-03-05 08:00:00 -0.037054  -0.391144           0  \n2020-03-06 08:00:00 -0.025618  -0.376851           0  \n2020-03-07 08:00:00 -0.023752  -0.154163           0  \n2020-03-08 08:00:00 -0.042864   0.246882           0  \n2020-03-09 08:00:00 -0.058090   0.406326           0  \n2020-03-10 08:00:00 -0.066459   0.318966           0  \n2020-03-11 08:00:00 -0.073131  -0.016576           0  \n2020-03-12 08:00:00 -0.129753   0.881665           0  \n2020-03-13 08:00:00 -0.158918   1.382799           0  \n2020-03-14 08:00:00 -0.186034   1.308440           0  \n2020-03-15 08:00:00 -0.202115   0.290766           0  \n2020-03-16 08:00:00 -0.220742  -0.252510           0  \n2020-03-17 08:00:00 -0.224107  -0.274045           0  \n2020-03-18 08:00:00 -0.221945  -0.339036           0  \n2020-03-19 08:00:00 -0.197831  -0.276797           0  \n2020-03-20 08:00:00 -0.180441   0.042392           0  \n2020-03-21 08:00:00 -0.162690   0.113766           0  \n2020-03-22 08:00:00 -0.156661  -0.044748           0  \n2020-03-23 08:00:00 -0.138998  -0.311555           0  \n2020-03-24 08:00:00 -0.121290  -0.384454           0  \n2020-03-25 08:00:00 -0.107336  -0.497852           0  \n2020-03-26 08:00:00 -0.086007  -0.587766           0  \n2020-03-27 08:00:00 -0.078242  -0.482773           0  \n2020-03-28 08:00:00 -0.072666  -0.472604           0  \n2020-03-29 08:00:00 -0.076812  -0.473309           0  \n2020-03-30 08:00:00 -0.069358  -0.490836           0  \n2020-03-31 08:00:00 -0.058340  -0.499861           1  \n2020-04-01 08:00:00 -0.047576  -0.520658           1  \n2020-04-02 08:00:00 -0.035852  -0.411072           1  \n2020-04-03 08:00:00 -0.023234  -0.302908           0  \n2020-04-04 08:00:00 -0.009604  -0.256284           0  \n2020-04-05 08:00:00 -0.000691  -0.421736           1  \n2020-04-06 08:00:00  0.020201  -0.157097           1  \n2020-04-07 08:00:00  0.029684  -0.063796           1  \n2020-04-08 08:00:00  0.039123   0.003638           0  \n2020-04-09 08:00:00  0.043993  -0.209235           1  \n2020-04-10 08:00:00  0.034324  -0.029337           1  \n2020-04-11 08:00:00  0.027696  -0.080586           1  \n2020-04-12 08:00:00  0.026982   0.129621           1  \n2020-04-13 08:00:00  0.032534   0.121941           0  \n2020-04-14 08:00:00  0.041097   0.297034           0  \n2020-04-15 08:00:00  0.036649   0.305472           0  \n2020-04-16 08:00:00  0.043509   0.312907           0  \n2020-04-17 08:00:00  0.046176   0.216243           0  \n2020-04-18 08:00:00  0.055479   0.152348           0  \n2020-04-19 08:00:00  0.055961  -0.093581           0  ",
      "text/html": "<div>\n<style scoped>\n    .dataframe tbody tr th:only-of-type {\n        vertical-align: middle;\n    }\n\n    .dataframe tbody tr th {\n        vertical-align: top;\n    }\n\n    .dataframe thead th {\n        text-align: right;\n    }\n</style>\n<table border=\"1\" class=\"dataframe\">\n  <thead>\n    <tr style=\"text-align: right;\">\n      <th></th>\n      <th>rsi</th>\n      <th>obv_ratio</th>\n      <th>william</th>\n      <th>kdj</th>\n      <th>ema3v8</th>\n      <th>ema8v21</th>\n      <th>atr_ratio</th>\n      <th>prediction</th>\n    </tr>\n  </thead>\n  <tbody>\n    <tr>\n      <th>2020-03-01 08:00:00</th>\n      <td>24.477686</td>\n      <td>-24.457908</td>\n      <td>-82.414198</td>\n      <td>17.585802</td>\n      <td>-0.041414</td>\n      <td>-0.062771</td>\n      <td>-0.193895</td>\n      <td>0</td>\n    </tr>\n    <tr>\n      <th>2020-03-02 08:00:00</th>\n      <td>39.587721</td>\n      <td>-34.858903</td>\n      <td>-67.747140</td>\n      <td>32.252860</td>\n      <td>-0.020893</td>\n      <td>-0.056712</td>\n      <td>-0.277253</td>\n      <td>0</td>\n    </tr>\n    <tr>\n      <th>2020-03-03 08:00:00</th>\n      <td>37.715750</td>\n      <td>17.921754</td>\n      <td>-70.348229</td>\n      <td>29.651771</td>\n      <td>-0.013615</td>\n      <td>-0.052557</td>\n      <td>-0.345050</td>\n      <td>0</td>\n    </tr>\n    <tr>\n      <th>2020-03-04 08:00:00</th>\n      <td>41.902922</td>\n      <td>4.199069</td>\n      <td>-59.405763</td>\n      <td>40.594237</td>\n      <td>-0.005280</td>\n      <td>-0.046831</td>\n      <td>-0.451555</td>\n      <td>0</td>\n    </tr>\n    <tr>\n      <th>2020-03-05 08:00:00</th>\n      <td>52.160183</td>\n      <td>-0.195292</td>\n      <td>-45.355289</td>\n      <td>54.644711</td>\n      <td>0.009400</td>\n      <td>-0.037054</td>\n      <td>-0.391144</td>\n      <td>0</td>\n    </tr>\n    <tr>\n      <th>2020-03-06 08:00:00</th>\n      <td>58.836641</td>\n      <td>-2.872473</td>\n      <td>-34.168606</td>\n      <td>65.831394</td>\n      <td>0.022357</td>\n      <td>-0.025618</td>\n      <td>-0.376851</td>\n      <td>0</td>\n    </tr>\n    <tr>\n      <th>2020-03-07 08:00:00</th>\n      <td>45.752099</td>\n      <td>-0.738167</td>\n      <td>-54.036155</td>\n      <td>45.963845</td>\n      <td>0.009847</td>\n      <td>-0.023752</td>\n      <td>-0.154163</td>\n      <td>0</td>\n    </tr>\n    <tr>\n      <th>2020-03-08 08:00:00</th>\n      <td>25.710466</td>\n      <td>2.049331</td>\n      <td>-97.231097</td>\n      <td>2.768903</td>\n      <td>-0.043777</td>\n      <td>-0.042864</td>\n      <td>0.246882</td>\n      <td>0</td>\n    </tr>\n    <tr>\n      <th>2020-03-09 08:00:00</th>\n      <td>24.575868</td>\n      <td>4.067488</td>\n      <td>-85.219932</td>\n      <td>14.780068</td>\n      <td>-0.066540</td>\n      <td>-0.058090</td>\n      <td>0.406326</td>\n      <td>0</td>\n    </tr>\n    <tr>\n      <th>2020-03-10 08:00:00</th>\n      <td>27.695718</td>\n      <td>1.380328</td>\n      <td>-80.104201</td>\n      <td>19.895799</td>\n      <td>-0.065147</td>\n      <td>-0.066459</td>\n      <td>0.318966</td>\n      <td>0</td>\n    </tr>\n    <tr>\n      <th>2020-03-11 08:00:00</th>\n      <td>26.443309</td>\n      <td>2.126224</td>\n      <td>-81.597605</td>\n      <td>18.402395</td>\n      <td>-0.062011</td>\n      <td>-0.073131</td>\n      <td>-0.016576</td>\n      <td>0</td>\n    </tr>\n    <tr>\n      <th>2020-03-12 08:00:00</th>\n      <td>10.690839</td>\n      <td>4.661062</td>\n      <td>-96.867489</td>\n      <td>3.132511</td>\n      <td>-0.185991</td>\n      <td>-0.129753</td>\n      <td>0.881665</td>\n      <td>0</td>\n    </tr>\n    <tr>\n      <th>2020-03-13 08:00:00</th>\n      <td>22.874832</td>\n      <td>-0.051666</td>\n      <td>-69.602163</td>\n      <td>30.397837</td>\n      <td>-0.195468</td>\n      <td>-0.158918</td>\n      <td>1.382799</td>\n      <td>0</td>\n    </tr>\n    <tr>\n      <th>2020-03-14 08:00:00</th>\n      <td>21.238059</td>\n      <td>0.801803</td>\n      <td>-74.900219</td>\n      <td>25.099781</td>\n      <td>-0.201636</td>\n      <td>-0.186034</td>\n      <td>1.308440</td>\n      <td>0</td>\n    </tr>\n    <tr>\n      <th>2020-03-15 08:00:00</th>\n      <td>23.225148</td>\n      <td>0.020248</td>\n      <td>-73.239346</td>\n      <td>26.760654</td>\n      <td>-0.180696</td>\n      <td>-0.202115</td>\n      <td>0.290766</td>\n      <td>0</td>\n    </tr>\n    <tr>\n      <th>2020-03-16 08:00:00</th>\n      <td>20.931872</td>\n      <td>1.203164</td>\n      <td>-79.490151</td>\n      <td>20.509849</td>\n      <td>-0.179636</td>\n      <td>-0.220742</td>\n      <td>-0.252510</td>\n      <td>0</td>\n    </tr>\n    <tr>\n      <th>2020-03-17 08:00:00</th>\n      <td>27.863941</td>\n      <td>0.377059</td>\n      <td>-74.217845</td>\n      <td>25.782155</td>\n      <td>-0.141296</td>\n      <td>-0.224107</td>\n      <td>-0.274045</td>\n      <td>0</td>\n    </tr>\n    <tr>\n      <th>2020-03-18 08:00:00</th>\n      <td>29.184718</td>\n      <td>-0.187592</td>\n      <td>-73.245783</td>\n      <td>26.754217</td>\n      <td>-0.107361</td>\n      <td>-0.221945</td>\n      <td>-0.339036</td>\n      <td>0</td>\n    </tr>\n    <tr>\n      <th>2020-03-19 08:00:00</th>\n      <td>43.901167</td>\n      <td>-0.987954</td>\n      <td>-61.175486</td>\n      <td>38.824514</td>\n      <td>-0.034958</td>\n      <td>-0.197831</td>\n      <td>-0.276797</td>\n      <td>0</td>\n    </tr>\n    <tr>\n      <th>2020-03-20 08:00:00</th>\n      <td>41.989496</td>\n      <td>-0.145768</td>\n      <td>-62.821017</td>\n      <td>37.178983</td>\n      <td>-0.011930</td>\n      <td>-0.180441</td>\n      <td>0.042392</td>\n      <td>0</td>\n    </tr>\n    <tr>\n      <th>2020-03-21 08:00:00</th>\n      <td>43.504462</td>\n      <td>-0.782216</td>\n      <td>-58.208636</td>\n      <td>41.791364</td>\n      <td>0.002770</td>\n      <td>-0.162690</td>\n      <td>0.113766</td>\n      <td>0</td>\n    </tr>\n    <tr>\n      <th>2020-03-22 08:00:00</th>\n      <td>37.855041</td>\n      <td>-0.081075</td>\n      <td>-56.149256</td>\n      <td>43.850744</td>\n      <td>-0.014153</td>\n      <td>-0.156661</td>\n      <td>-0.044748</td>\n      <td>0</td>\n    </tr>\n    <tr>\n      <th>2020-03-23 08:00:00</th>\n      <td>46.479453</td>\n      <td>-0.722648</td>\n      <td>-47.066167</td>\n      <td>52.933833</td>\n      <td>0.004870</td>\n      <td>-0.138998</td>\n      <td>-0.311555</td>\n      <td>0</td>\n    </tr>\n    <tr>\n      <th>2020-03-24 08:00:00</th>\n      <td>48.374597</td>\n      <td>-1.242203</td>\n      <td>-43.376480</td>\n      <td>56.623520</td>\n      <td>0.016946</td>\n      <td>-0.121290</td>\n      <td>-0.384454</td>\n      <td>0</td>\n    </tr>\n    <tr>\n      <th>2020-03-25 08:00:00</th>\n      <td>47.537420</td>\n      <td>-0.694320</td>\n      <td>-41.608930</td>\n      <td>58.391070</td>\n      <td>0.017326</td>\n      <td>-0.107336</td>\n      <td>-0.497852</td>\n      <td>0</td>\n    </tr>\n    <tr>\n      <th>2020-03-26 08:00:00</th>\n      <td>55.514481</td>\n      <td>-1.039164</td>\n      <td>-6.634499</td>\n      <td>93.365501</td>\n      <td>0.035586</td>\n      <td>-0.086007</td>\n      <td>-0.587766</td>\n      <td>0</td>\n    </tr>\n    <tr>\n      <th>2020-03-27 08:00:00</th>\n      <td>47.330748</td>\n      <td>-0.578312</td>\n      <td>-25.954486</td>\n      <td>74.045514</td>\n      <td>0.018829</td>\n      <td>-0.078242</td>\n      <td>-0.482773</td>\n      <td>0</td>\n    </tr>\n    <tr>\n      <th>2020-03-28 08:00:00</th>\n      <td>46.073307</td>\n      <td>-0.200829</td>\n      <td>-28.625165</td>\n      <td>71.374835</td>\n      <td>0.007033</td>\n      <td>-0.072666</td>\n      <td>-0.472604</td>\n      <td>0</td>\n    </tr>\n    <tr>\n      <th>2020-03-29 08:00:00</th>\n      <td>38.522344</td>\n      <td>0.066326</td>\n      <td>-45.702464</td>\n      <td>54.297536</td>\n      <td>-0.019272</td>\n      <td>-0.076812</td>\n      <td>-0.473309</td>\n      <td>0</td>\n    </tr>\n    <tr>\n      <th>2020-03-30 08:00:00</th>\n      <td>47.823987</td>\n      <td>-0.256939</td>\n      <td>-36.010066</td>\n      <td>63.989934</td>\n      <td>-0.007646</td>\n      <td>-0.069358</td>\n      <td>-0.490836</td>\n      <td>0</td>\n    </tr>\n    <tr>\n      <th>2020-03-31 08:00:00</th>\n      <td>51.877355</td>\n      <td>-0.650748</td>\n      <td>-28.744739</td>\n      <td>71.255261</td>\n      <td>0.007166</td>\n      <td>-0.058340</td>\n      <td>-0.499861</td>\n      <td>1</td>\n    </tr>\n    <tr>\n      <th>2020-04-01 08:00:00</th>\n      <td>53.589757</td>\n      <td>-1.107431</td>\n      <td>-28.707995</td>\n      <td>71.292005</td>\n      <td>0.015829</td>\n      <td>-0.047576</td>\n      <td>-0.520658</td>\n      <td>1</td>\n    </tr>\n    <tr>\n      <th>2020-04-02 08:00:00</th>\n      <td>56.744768</td>\n      <td>-2.039454</td>\n      <td>-21.664733</td>\n      <td>78.335267</td>\n      <td>0.023982</td>\n      <td>-0.035852</td>\n      <td>-0.411072</td>\n      <td>1</td>\n    </tr>\n    <tr>\n      <th>2020-04-03 08:00:00</th>\n      <td>60.358723</td>\n      <td>-2.962526</td>\n      <td>-13.244147</td>\n      <td>86.755853</td>\n      <td>0.031881</td>\n      <td>-0.023234</td>\n      <td>-0.302908</td>\n      <td>0</td>\n    </tr>\n    <tr>\n      <th>2020-04-04 08:00:00</th>\n      <td>64.476077</td>\n      <td>-5.554159</td>\n      <td>-8.216677</td>\n      <td>91.783323</td>\n      <td>0.040032</td>\n      <td>-0.009604</td>\n      <td>-0.256284</td>\n      <td>0</td>\n    </tr>\n    <tr>\n      <th>2020-04-05 08:00:00</th>\n      <td>63.008770</td>\n      <td>-6.146394</td>\n      <td>-10.712112</td>\n      <td>89.287888</td>\n      <td>0.036724</td>\n      <td>-0.000691</td>\n      <td>-0.421736</td>\n      <td>1</td>\n    </tr>\n    <tr>\n      <th>2020-04-06 08:00:00</th>\n      <td>74.957473</td>\n      <td>-31.650812</td>\n      <td>-1.073122</td>\n      <td>98.926878</td>\n      <td>0.061028</td>\n      <td>0.020201</td>\n      <td>-0.157097</td>\n      <td>1</td>\n    </tr>\n    <tr>\n      <th>2020-04-07 08:00:00</th>\n      <td>67.162278</td>\n      <td>17.321143</td>\n      <td>-18.357826</td>\n      <td>81.642174</td>\n      <td>0.053642</td>\n      <td>0.029684</td>\n      <td>-0.063796</td>\n      <td>1</td>\n    </tr>\n    <tr>\n      <th>2020-04-08 08:00:00</th>\n      <td>70.051166</td>\n      <td>7.861890</td>\n      <td>-9.657103</td>\n      <td>90.342897</td>\n      <td>0.051690</td>\n      <td>0.039123</td>\n      <td>0.003638</td>\n      <td>0</td>\n    </tr>\n    <tr>\n      <th>2020-04-09 08:00:00</th>\n      <td>68.467369</td>\n      <td>4.208880</td>\n      <td>-11.639841</td>\n      <td>88.360159</td>\n      <td>0.043310</td>\n      <td>0.043993</td>\n      <td>-0.209235</td>\n      <td>1</td>\n    </tr>\n    <tr>\n      <th>2020-04-10 08:00:00</th>\n      <td>48.887128</td>\n      <td>1.317414</td>\n      <td>-42.080709</td>\n      <td>57.919291</td>\n      <td>0.010269</td>\n      <td>0.034324</td>\n      <td>-0.029337</td>\n      <td>1</td>\n    </tr>\n    <tr>\n      <th>2020-04-11 08:00:00</th>\n      <td>50.098443</td>\n      <td>1.796025</td>\n      <td>-39.841381</td>\n      <td>60.158619</td>\n      <td>-0.002007</td>\n      <td>0.027696</td>\n      <td>-0.080586</td>\n      <td>1</td>\n    </tr>\n    <tr>\n      <th>2020-04-12 08:00:00</th>\n      <td>56.133528</td>\n      <td>2.042813</td>\n      <td>-28.574761</td>\n      <td>71.425239</td>\n      <td>0.002934</td>\n      <td>0.026982</td>\n      <td>0.129621</td>\n      <td>1</td>\n    </tr>\n    <tr>\n      <th>2020-04-13 08:00:00</th>\n      <td>63.626364</td>\n      <td>3.147631</td>\n      <td>-14.414414</td>\n      <td>85.585586</td>\n      <td>0.018293</td>\n      <td>0.032534</td>\n      <td>0.121941</td>\n      <td>0</td>\n    </tr>\n    <tr>\n      <th>2020-04-14 08:00:00</th>\n      <td>68.748971</td>\n      <td>3.820879</td>\n      <td>-9.038558</td>\n      <td>90.961442</td>\n      <td>0.033096</td>\n      <td>0.041097</td>\n      <td>0.297034</td>\n      <td>0</td>\n    </tr>\n    <tr>\n      <th>2020-04-15 08:00:00</th>\n      <td>53.399040</td>\n      <td>2.196276</td>\n      <td>-40.822235</td>\n      <td>59.177765</td>\n      <td>0.015378</td>\n      <td>0.036649</td>\n      <td>0.305472</td>\n      <td>0</td>\n    </tr>\n    <tr>\n      <th>2020-04-16 08:00:00</th>\n      <td>63.958768</td>\n      <td>2.425267</td>\n      <td>-7.133465</td>\n      <td>92.866535</td>\n      <td>0.028972</td>\n      <td>0.043509</td>\n      <td>0.312907</td>\n      <td>0</td>\n    </tr>\n    <tr>\n      <th>2020-04-17 08:00:00</th>\n      <td>62.226774</td>\n      <td>1.512158</td>\n      <td>-12.207239</td>\n      <td>87.792761</td>\n      <td>0.028440</td>\n      <td>0.046176</td>\n      <td>0.216243</td>\n      <td>0</td>\n    </tr>\n    <tr>\n      <th>2020-04-18 08:00:00</th>\n      <td>69.504530</td>\n      <td>1.555932</td>\n      <td>-7.121923</td>\n      <td>92.878077</td>\n      <td>0.042169</td>\n      <td>0.055479</td>\n      <td>0.152348</td>\n      <td>0</td>\n    </tr>\n    <tr>\n      <th>2020-04-19 08:00:00</th>\n      <td>61.786923</td>\n      <td>0.960190</td>\n      <td>-23.396675</td>\n      <td>76.603325</td>\n      <td>0.032899</td>\n      <td>0.055961</td>\n      <td>-0.093581</td>\n      <td>0</td>\n    </tr>\n  </tbody>\n</table>\n</div>"
     },
     "execution_count": 16,
     "metadata": {},
     "output_type": "execute_result"
    }
   ],
   "source": [
    "'''\n",
    "todo: train the model with partial training.\n",
    "\n",
    "training dataset:\n",
    "sh, TSLA, ETH\n",
    "\n",
    "test dataset:\n",
    "BTC BNB\n",
    "'''\n",
    "\n",
    "train_data_sh=generateTestData(\"data/price_data_sh.csv\")\n",
    "train_data_tsla=generateTestData(\"data/price_data_tsla.csv\")\n",
    "train_data_eth=generateTestData(\"data/price_data_eth.csv\")\n",
    "\n",
    "test_data_btc=generateTestData(\"data/price_data_btc.csv\")\n",
    "test_data_bnb=generateTestData(\"data/price_data_bnb.csv\")\n",
    "\n",
    "test_data_bnb.head(50)"
   ]
  },
  {
   "cell_type": "code",
   "execution_count": 17,
   "outputs": [
    {
     "name": "stdout",
     "output_type": "stream",
     "text": [
      "====================\n",
      "Accuracy: 0.8113590263691683\n",
      "Percision: 0.5142857142857142\n",
      "Recall: 0.5625\n",
      "Specificity: 0.871536523929471\n",
      "====================\n",
      "====================\n",
      "Accuracy: 0.7672955974842768\n",
      "Percision: 0.45806451612903226\n",
      "Recall: 0.5259259259259259\n",
      "Specificity: 0.8323353293413174\n",
      "====================\n",
      "====================\n",
      "Accuracy: 0.7496823379923762\n",
      "Percision: 0.5654205607476636\n",
      "Recall: 0.5377777777777778\n",
      "Specificity: 0.8345195729537367\n",
      "====================\n"
     ]
    },
    {
     "name": "stderr",
     "output_type": "stream",
     "text": [
      "c:\\users\\79285\\appdata\\local\\programs\\python\\python39\\lib\\site-packages\\sklearn\\ensemble\\_forest.py:453: UserWarning: Warm-start fitting without increasing n_estimators does not fit new trees.\n",
      "  warn(\n",
      "c:\\users\\79285\\appdata\\local\\programs\\python\\python39\\lib\\site-packages\\sklearn\\ensemble\\_forest.py:453: UserWarning: Warm-start fitting without increasing n_estimators does not fit new trees.\n",
      "  warn(\n"
     ]
    }
   ],
   "source": [
    "\n",
    "'''\n",
    "rsi\tobv_ratio\twilliam\tkdj\tema3v8\tema8v21\tatr_ratio\tprediction\n",
    "\n",
    "'''\n",
    "#x_cols = data[['rsi','obv_ratio','william','ema3v8','ema8v21','atr_ratio']]\n",
    "\n",
    "random_forest_classifier=RandomForestClassifier(n_estimators=80, oob_score = True, criterion='gini',random_state=50,warm_start=True)\n",
    "\n",
    "for train_data in (train_data_eth,train_data_sh,train_data_tsla):\n",
    "\n",
    "    x_cols = train_data[['rsi','obv_ratio','william','ema3v8','ema8v21','atr_ratio']]\n",
    "    y_cols = train_data['prediction']\n",
    "\n",
    "    x_train, x_test, y_train, y_test = train_test_split(x_cols,y_cols,random_state=0,shuffle=False)\n",
    "\n",
    "    # fit data to the model\n",
    "    random_forest_classifier.fit(x_train,y_train)\n",
    "\n",
    "    # make predictions\n",
    "    y_pred=random_forest_classifier.predict(x_test)\n",
    "\n",
    "    get_matrix(y_test,y_pred)\n"
   ],
   "metadata": {
    "collapsed": false,
    "pycharm": {
     "name": "#%%\n"
    }
   }
  },
  {
   "cell_type": "code",
   "execution_count": 21,
   "outputs": [
    {
     "name": "stdout",
     "output_type": "stream",
     "text": [
      "====================\n",
      "Accuracy: 0.7678424938474159\n",
      "Percision: 0.5300751879699248\n",
      "Recall: 0.47157190635451507\n",
      "Specificity: 0.8641304347826086\n",
      "====================\n",
      "====================\n",
      "Accuracy: 0.7603383458646616\n",
      "Percision: 0.5274261603375527\n",
      "Recall: 0.4664179104477612\n",
      "Specificity: 0.8592964824120602\n",
      "====================\n"
     ]
    }
   ],
   "source": [
    "col_list=['rsi','obv_ratio','william','ema3v8','ema8v21','atr_ratio']\n",
    "\n",
    "'''test with btc'''\n",
    "y_pred_btc=random_forest_classifier.predict(test_data_btc[col_list])\n",
    "y_test_btc=test_data_btc['prediction']\n",
    "get_matrix(y_test_btc,y_pred_btc)\n",
    "\n",
    "\n",
    "'''test with bnb'''\n",
    "y_pred_bnb=random_forest_classifier.predict(test_data_bnb[col_list])\n",
    "y_test_bnb=test_data_bnb['prediction']\n",
    "get_matrix(y_test_bnb,y_pred_bnb)\n",
    "\n",
    "\n",
    "'''\n",
    "Result:\n",
    "\n",
    "BTC:\n",
    "====================\n",
    "Accuracy: 0.7678424938474159\n",
    "Percision: 0.5300751879699248\n",
    "Recall: 0.47157190635451507\n",
    "Specificity: 0.8641304347826086\n",
    "====================\n",
    "\n",
    "BNB:\n",
    "====================\n",
    "Accuracy: 0.7603383458646616\n",
    "Percision: 0.5274261603375527\n",
    "Recall: 0.4664179104477612\n",
    "Specificity: 0.8592964824120602\n",
    "====================\n",
    "'''\n"
   ],
   "metadata": {
    "collapsed": false,
    "pycharm": {
     "name": "#%%\n"
    }
   }
  },
  {
   "cell_type": "code",
   "execution_count": 23,
   "outputs": [
    {
     "name": "stdout",
     "output_type": "stream",
     "text": [
      "====================\n",
      "Accuracy: 0.7603383458646616\n",
      "Percision: 0.5274261603375527\n",
      "Recall: 0.4664179104477612\n",
      "Specificity: 0.8592964824120602\n",
      "====================\n"
     ]
    }
   ],
   "source": [
    "'''\n",
    "Model Save and Load\n",
    "'''\n",
    "model_save(random_forest_classifier,\"rfc_finance_market.joblib\")\n",
    "rfc=model_load(\"rfc_finance_market.joblib\")\n",
    "y_pred_bnb=rfc.predict(test_data_bnb[col_list])\n",
    "y_test_bnb=test_data_bnb['prediction']\n",
    "get_matrix(y_test_bnb,y_pred_bnb)"
   ],
   "metadata": {
    "collapsed": false,
    "pycharm": {
     "name": "#%%\n"
    }
   }
  },
  {
   "cell_type": "code",
   "execution_count": 5,
   "outputs": [
    {
     "name": "stdout",
     "output_type": "stream",
     "text": [
      "ema8v21      0.192252\n",
      "rsi          0.191671\n",
      "ema3v8       0.181102\n",
      "william      0.159072\n",
      "obv_ratio    0.138339\n",
      "atr_ratio    0.137563\n",
      "dtype: float64\n"
     ]
    },
    {
     "data": {
      "text/plain": "Text(0.5, 1.0, 'Random Forest: Feature Importance Graph')"
     },
     "execution_count": 5,
     "metadata": {},
     "output_type": "execute_result"
    },
    {
     "data": {
      "text/plain": "<Figure size 640x480 with 1 Axes>",
      "image/png": "[encoded data removed]"
     },
     "metadata": {},
     "output_type": "display_data"
    }
   ],
   "source": [
    "'''Model Evaluation'''\n",
    "\n",
    "\n",
    "'''\n",
    "Feature Importance Graphing\n",
    "'''\n",
    "import numpy as np\n",
    "import matplotlib.pyplot as plt\n",
    "\n",
    "feature_imp = pd.Series(random_forest_classifier.feature_importances_, index=x_cols.columns).sort_values(ascending=False)\n",
    "print(feature_imp)\n",
    "\n",
    "# store the values in a list to plot\n",
    "x_values = list(range(len(random_forest_classifier.feature_importances_)))\n",
    "\n",
    "# Cumulative importances\n",
    "cumulative_importances = np.cumsum(feature_imp.values)\n",
    "\n",
    "# make a line graph\n",
    "plt.plot(x_values,cumulative_importances,'g-')\n",
    "\n",
    "# Draw line at 95% of importance retained\n",
    "plt.hlines(y=0.95,xmin=0,xmax=len(feature_imp),colors='r',linestyles='dashed')\n",
    "\n",
    "# Format x ticks and labels\n",
    "plt.xticks(x_values,feature_imp.index,rotation='vertical')\n",
    "\n",
    "# Axis labels and title\n",
    "plt.xlabel('Variable')\n",
    "plt.ylabel('Cumulative Importance')\n",
    "plt.title(\"Random Forest: Feature Importance Graph\")\n"
   ],
   "metadata": {
    "collapsed": false,
    "pycharm": {
     "name": "#%%\n"
    }
   }
  },
  {
   "cell_type": "code",
   "execution_count": 8,
   "outputs": [
    {
     "data": {
      "text/plain": "<Figure size 640x480 with 1 Axes>",
      "image/png": "[encoded data removed]"
     },
     "metadata": {},
     "output_type": "display_data"
    }
   ],
   "source": [
    "'''\n",
    "Create an ROC curve plot\n",
    "'''\n",
    "from sklearn.metrics import roc_curve\n",
    "from sklearn.metrics import auc\n",
    "\n",
    "fpr,tpr,threshold=roc_curve(y_pred,y_test)\n",
    "roc_auc=auc(fpr,tpr)\n",
    "\n",
    "plt.plot(fpr, tpr, 'k--', label='ROC (area = {0:.2f})'.format(roc_auc), lw=2)\n",
    "\n",
    "plt.xlim([-0.05, 1.05])\n",
    "plt.ylim([-0.05, 1.05])\n",
    "plt.xlabel(\"False Positive Rate\")\n",
    "plt.ylabel(\"True Positive Rate\")\n",
    "plt.title(\"ROC Curve\")\n",
    "plt.legend(loc=\"lower right\")\n",
    "plt.show()"
   ],
   "metadata": {
    "collapsed": false,
    "pycharm": {
     "name": "#%%\n"
    }
   }
  },
  {
   "cell_type": "code",
   "execution_count": 9,
   "outputs": [
    {
     "name": "stdout",
     "output_type": "stream",
     "text": [
      "Random Forest Out-Of-Bag Error Score: 0.8047244094488188\n"
     ]
    }
   ],
   "source": [
    "print('Random Forest Out-Of-Bag Error Score: {}'.format(random_forest_classifier.oob_score_))"
   ],
   "metadata": {
    "collapsed": false,
    "pycharm": {
     "name": "#%%\n"
    }
   }
  },
  {
   "cell_type": "code",
   "execution_count": 11,
   "outputs": [
    {
     "name": "stdout",
     "output_type": "stream",
     "text": [
      "{'n_estimators': [200, 400, 600, 800, 1000, 1200, 1400, 1600, 1800], 'max_features': ['auto', 'sqrt', None, 'log2'], 'max_depth': [10, 20, 30, 40, 50, 60, 70, 80, 90, 100, None], 'min_samples_split': [2, 5, 10, 20, 30, 40], 'min_samples_leaf': [1, 2, 7, 12, 14, 16, 20], 'bootstrap': [True, False]}\n",
      "Fitting 3 folds for each of 100 candidates, totalling 300 fits\n"
     ]
    },
    {
     "data": {
      "text/plain": "RandomizedSearchCV(cv=3, estimator=RandomForestClassifier(), n_iter=100,\n                   n_jobs=-1,\n                   param_distributions={'bootstrap': [True, False],\n                                        'max_depth': [10, 20, 30, 40, 50, 60,\n                                                      70, 80, 90, 100, None],\n                                        'max_features': ['auto', 'sqrt', None,\n                                                         'log2'],\n                                        'min_samples_leaf': [1, 2, 7, 12, 14,\n                                                             16, 20],\n                                        'min_samples_split': [2, 5, 10, 20, 30,\n                                                              40],\n                                        'n_estimators': [200, 400, 600, 800,\n                                                         1000, 1200, 1400, 1600,\n                                                         1800]},\n                   random_state=42, verbose=2)",
      "text/html": "<style>#sk-container-id-1 {color: black;background-color: white;}#sk-container-id-1 pre{padding: 0;}#sk-container-id-1 div.sk-toggleable {background-color: white;}#sk-container-id-1 label.sk-toggleable__label {cursor: pointer;display: block;width: 100%;margin-bottom: 0;padding: 0.3em;box-sizing: border-box;text-align: center;}#sk-container-id-1 label.sk-toggleable__label-arrow:before {content: \"▸\";float: left;margin-right: 0.25em;color: #696969;}#sk-container-id-1 label.sk-toggleable__label-arrow:hover:before {color: black;}#sk-container-id-1 div.sk-estimator:hover label.sk-toggleable__label-arrow:before {color: black;}#sk-container-id-1 div.sk-toggleable__content {max-height: 0;max-width: 0;overflow: hidden;text-align: left;background-color: #f0f8ff;}#sk-container-id-1 div.sk-toggleable__content pre {margin: 0.2em;color: black;border-radius: 0.25em;background-color: #f0f8ff;}#sk-container-id-1 input.sk-toggleable__control:checked~div.sk-toggleable__content {max-height: 200px;max-width: 100%;overflow: auto;}#sk-container-id-1 input.sk-toggleable__control:checked~label.sk-toggleable__label-arrow:before {content: \"▾\";}#sk-container-id-1 div.sk-estimator input.sk-toggleable__control:checked~label.sk-toggleable__label {background-color: #d4ebff;}#sk-container-id-1 div.sk-label input.sk-toggleable__control:checked~label.sk-toggleable__label {background-color: #d4ebff;}#sk-container-id-1 input.sk-hidden--visually {border: 0;clip: rect(1px 1px 1px 1px);clip: rect(1px, 1px, 1px, 1px);height: 1px;margin: -1px;overflow: hidden;padding: 0;position: absolute;width: 1px;}#sk-container-id-1 div.sk-estimator {font-family: monospace;background-color: #f0f8ff;border: 1px dotted black;border-radius: 0.25em;box-sizing: border-box;margin-bottom: 0.5em;}#sk-container-id-1 div.sk-estimator:hover {background-color: #d4ebff;}#sk-container-id-1 div.sk-parallel-item::after {content: \"\";width: 100%;border-bottom: 1px solid gray;flex-grow: 1;}#sk-container-id-1 div.sk-label:hover label.sk-toggleable__label {background-color: #d4ebff;}#sk-container-id-1 div.sk-serial::before {content: \"\";position: absolute;border-left: 1px solid gray;box-sizing: border-box;top: 0;bottom: 0;left: 50%;z-index: 0;}#sk-container-id-1 div.sk-serial {display: flex;flex-direction: column;align-items: center;background-color: white;padding-right: 0.2em;padding-left: 0.2em;position: relative;}#sk-container-id-1 div.sk-item {position: relative;z-index: 1;}#sk-container-id-1 div.sk-parallel {display: flex;align-items: stretch;justify-content: center;background-color: white;position: relative;}#sk-container-id-1 div.sk-item::before, #sk-container-id-1 div.sk-parallel-item::before {content: \"\";position: absolute;border-left: 1px solid gray;box-sizing: border-box;top: 0;bottom: 0;left: 50%;z-index: -1;}#sk-container-id-1 div.sk-parallel-item {display: flex;flex-direction: column;z-index: 1;position: relative;background-color: white;}#sk-container-id-1 div.sk-parallel-item:first-child::after {align-self: flex-end;width: 50%;}#sk-container-id-1 div.sk-parallel-item:last-child::after {align-self: flex-start;width: 50%;}#sk-container-id-1 div.sk-parallel-item:only-child::after {width: 0;}#sk-container-id-1 div.sk-dashed-wrapped {border: 1px dashed gray;margin: 0 0.4em 0.5em 0.4em;box-sizing: border-box;padding-bottom: 0.4em;background-color: white;}#sk-container-id-1 div.sk-label label {font-family: monospace;font-weight: bold;display: inline-block;line-height: 1.2em;}#sk-container-id-1 div.sk-label-container {text-align: center;}#sk-container-id-1 div.sk-container {/* jupyter's `normalize.less` sets `[hidden] { display: none; }` but bootstrap.min.css set `[hidden] { display: none !important; }` so we also need the `!important` here to be able to override the default hidden behavior on the sphinx rendered scikit-learn.org. See: https://github.com/scikit-learn/scikit-learn/issues/21755 */display: inline-block !important;position: relative;}#sk-container-id-1 div.sk-text-repr-fallback {display: none;}</style><div id=\"sk-container-id-1\" class=\"sk-top-container\"><div class=\"sk-text-repr-fallback\"><pre>RandomizedSearchCV(cv=3, estimator=RandomForestClassifier(), n_iter=100,\n                   n_jobs=-1,\n                   param_distributions={&#x27;bootstrap&#x27;: [True, False],\n                                        &#x27;max_depth&#x27;: [10, 20, 30, 40, 50, 60,\n                                                      70, 80, 90, 100, None],\n                                        &#x27;max_features&#x27;: [&#x27;auto&#x27;, &#x27;sqrt&#x27;, None,\n                                                         &#x27;log2&#x27;],\n                                        &#x27;min_samples_leaf&#x27;: [1, 2, 7, 12, 14,\n                                                             16, 20],\n                                        &#x27;min_samples_split&#x27;: [2, 5, 10, 20, 30,\n                                                              40],\n                                        &#x27;n_estimators&#x27;: [200, 400, 600, 800,\n                                                         1000, 1200, 1400, 1600,\n                                                         1800]},\n                   random_state=42, verbose=2)</pre><b>In a Jupyter environment, please rerun this cell to show the HTML representation or trust the notebook. <br />On GitHub, the HTML representation is unable to render, please try loading this page with nbviewer.org.</b></div><div class=\"sk-container\" hidden><div class=\"sk-item sk-dashed-wrapped\"><div class=\"sk-label-container\"><div class=\"sk-label sk-toggleable\"><input class=\"sk-toggleable__control sk-hidden--visually\" id=\"sk-estimator-id-1\" type=\"checkbox\" ><label for=\"sk-estimator-id-1\" class=\"sk-toggleable__label sk-toggleable__label-arrow\">RandomizedSearchCV</label><div class=\"sk-toggleable__content\"><pre>RandomizedSearchCV(cv=3, estimator=RandomForestClassifier(), n_iter=100,\n                   n_jobs=-1,\n                   param_distributions={&#x27;bootstrap&#x27;: [True, False],\n                                        &#x27;max_depth&#x27;: [10, 20, 30, 40, 50, 60,\n                                                      70, 80, 90, 100, None],\n                                        &#x27;max_features&#x27;: [&#x27;auto&#x27;, &#x27;sqrt&#x27;, None,\n                                                         &#x27;log2&#x27;],\n                                        &#x27;min_samples_leaf&#x27;: [1, 2, 7, 12, 14,\n                                                             16, 20],\n                                        &#x27;min_samples_split&#x27;: [2, 5, 10, 20, 30,\n                                                              40],\n                                        &#x27;n_estimators&#x27;: [200, 400, 600, 800,\n                                                         1000, 1200, 1400, 1600,\n                                                         1800]},\n                   random_state=42, verbose=2)</pre></div></div></div><div class=\"sk-parallel\"><div class=\"sk-parallel-item\"><div class=\"sk-item\"><div class=\"sk-label-container\"><div class=\"sk-label sk-toggleable\"><input class=\"sk-toggleable__control sk-hidden--visually\" id=\"sk-estimator-id-2\" type=\"checkbox\" ><label for=\"sk-estimator-id-2\" class=\"sk-toggleable__label sk-toggleable__label-arrow\">estimator: RandomForestClassifier</label><div class=\"sk-toggleable__content\"><pre>RandomForestClassifier()</pre></div></div></div><div class=\"sk-serial\"><div class=\"sk-item\"><div class=\"sk-estimator sk-toggleable\"><input class=\"sk-toggleable__control sk-hidden--visually\" id=\"sk-estimator-id-3\" type=\"checkbox\" ><label for=\"sk-estimator-id-3\" class=\"sk-toggleable__label sk-toggleable__label-arrow\">RandomForestClassifier</label><div class=\"sk-toggleable__content\"><pre>RandomForestClassifier()</pre></div></div></div></div></div></div></div></div></div></div>"
     },
     "execution_count": 11,
     "metadata": {},
     "output_type": "execute_result"
    }
   ],
   "source": [
    "'''\n",
    "以下是发现最优参数的办法\n",
    "Feature importance graphing\n",
    "'''\n",
    "from sklearn.model_selection import RandomizedSearchCV\n",
    "\n",
    "# Number of trees in random forest\n",
    "# Number of trees is not a parameter that should be tuned, but just set large enough usually. There is no risk of overfitting in random forest with growing number of # trees, as they are trained independently from each other.\n",
    "n_estimators = list(range(200, 2000, 200))\n",
    "\n",
    "# Number of features to consider at every split\n",
    "max_features = ['auto', 'sqrt', None, 'log2']\n",
    "\n",
    "# Maximum number of levels in tree\n",
    "# Max depth is a parameter that most of the times should be set as high as possible, but possibly better performance can be achieved by setting it lower.\n",
    "max_depth = list(range(10, 110, 10))\n",
    "max_depth.append(None)\n",
    "\n",
    "# Minimum number of samples required to split a node\n",
    "# Higher values prevent a model from learning relations which might be highly specific to the particular sample selected for a tree. Too high values can also lead to # under-fitting hence depending on the level of underfitting or overfitting, you can tune the values for min_samples_split.\n",
    "min_samples_split = [2, 5, 10, 20, 30, 40]\n",
    "\n",
    "# Minimum number of samples required at each leaf node\n",
    "min_samples_leaf = [1, 2, 7, 12, 14, 16 ,20]\n",
    "\n",
    "# Method of selecting samples for training each tree\n",
    "bootstrap = [True, False]\n",
    "\n",
    "# Create the random grid\n",
    "random_grid = {'n_estimators': n_estimators,\n",
    "               'max_features': max_features,\n",
    "               'max_depth': max_depth,\n",
    "               'min_samples_split': min_samples_split,\n",
    "               'min_samples_leaf': min_samples_leaf,\n",
    "               'bootstrap': bootstrap}\n",
    "\n",
    "print(random_grid)\n",
    "\n",
    "# New Random Forest Classifier to house optimal parameters\n",
    "rf = RandomForestClassifier()\n",
    "\n",
    "# Specfiy the details of our Randomized Search\n",
    "rf_random = RandomizedSearchCV(estimator = rf, param_distributions = random_grid, n_iter = 100, cv = 3, verbose=2, random_state=42, n_jobs = -1)\n",
    "\n",
    "# Fit the random search model\n",
    "rf_random.fit(x_train, y_train)"
   ],
   "metadata": {
    "collapsed": false,
    "pycharm": {
     "name": "#%%\n"
    }
   }
  },
  {
   "cell_type": "code",
   "execution_count": 12,
   "outputs": [
    {
     "name": "stdout",
     "output_type": "stream",
     "text": [
      "Best estimator: RandomForestClassifier(max_depth=90, min_samples_leaf=12, min_samples_split=20,\n",
      "                       n_estimators=800)\n",
      "Best score: 0.7627296587926509\n",
      "Best params: {'n_estimators': 800, 'min_samples_split': 20, 'min_samples_leaf': 12, 'max_features': 'sqrt', 'max_depth': 90, 'bootstrap': True}\n",
      "Best index: 76\n"
     ]
    }
   ],
   "source": [
    "print(\"Best estimator: {}\".format(rf_random.best_estimator_))\n",
    "print(\"Best score: {}\".format(rf_random.best_score_))\n",
    "print(\"Best params: {}\".format(rf_random.best_params_))\n",
    "print(\"Best index: {}\".format(rf_random.best_index_))\n",
    "\n",
    "'''\n",
    "测试结果：\n",
    "Best estimator: RandomForestClassifier(max_depth=90, min_samples_leaf=12, min_samples_split=20,\n",
    "                       n_estimators=800)\n",
    "Best score: 0.7627296587926509\n",
    "Best params: {'n_estimators': 800, 'min_samples_split': 20, 'min_samples_leaf': 12, 'max_features': 'sqrt', 'max_depth': 90, 'bootstrap': True}\n",
    "Best index: 76\n",
    "'''\n",
    "\n",
    "\n",
    "\n"
   ],
   "metadata": {
    "collapsed": false,
    "pycharm": {
     "name": "#%%\n"
    }
   }
  }
 ],
 "metadata": {
  "kernelspec": {
   "display_name": "Python 3",
   "language": "python",
   "name": "python3"
  },
  "language_info": {
   "codemirror_mode": {
    "name": "ipython",
    "version": 2
   },
   "file_extension": ".py",
   "mimetype": "text/x-python",
   "name": "python",
   "nbconvert_exporter": "python",
   "pygments_lexer": "ipython2",
   "version": "2.7.6"
  }
 },
 "nbformat": 4,
 "nbformat_minor": 0
}