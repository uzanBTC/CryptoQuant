{
 "cells": [
  {
   "cell_type": "code",
   "execution_count": 11,
   "metadata": {
    "collapsed": true
   },
   "outputs": [
    {
     "name": "stderr",
     "output_type": "stream",
     "text": [
      "c:\\users\\79285\\appdata\\local\\programs\\python\\python39\\lib\\site-packages\\pandas\\core\\indexing.py:692: SettingWithCopyWarning: \n",
      "A value is trying to be set on a copy of a slice from a DataFrame\n",
      "\n",
      "See the caveats in the documentation: https://pandas.pydata.org/pandas-docs/stable/user_guide/indexing.html#returning-a-view-versus-a-copy\n",
      "  iloc._setitem_with_indexer(indexer, value, self.name)\n",
      "c:\\users\\79285\\appdata\\local\\programs\\python\\python39\\lib\\site-packages\\pandas\\core\\indexing.py:1637: SettingWithCopyWarning: \n",
      "A value is trying to be set on a copy of a slice from a DataFrame\n",
      "\n",
      "See the caveats in the documentation: https://pandas.pydata.org/pandas-docs/stable/user_guide/indexing.html#returning-a-view-versus-a-copy\n",
      "  self._setitem_single_block(indexer, value, name)\n",
      "c:\\users\\79285\\appdata\\local\\programs\\python\\python39\\lib\\site-packages\\pandas\\core\\indexing.py:692: SettingWithCopyWarning: \n",
      "A value is trying to be set on a copy of a slice from a DataFrame\n",
      "\n",
      "See the caveats in the documentation: https://pandas.pydata.org/pandas-docs/stable/user_guide/indexing.html#returning-a-view-versus-a-copy\n",
      "  iloc._setitem_with_indexer(indexer, value, self.name)\n",
      "c:\\users\\79285\\appdata\\local\\programs\\python\\python39\\lib\\site-packages\\pandas\\core\\indexing.py:1637: SettingWithCopyWarning: \n",
      "A value is trying to be set on a copy of a slice from a DataFrame\n",
      "\n",
      "See the caveats in the documentation: https://pandas.pydata.org/pandas-docs/stable/user_guide/indexing.html#returning-a-view-versus-a-copy\n",
      "  self._setitem_single_block(indexer, value, name)\n",
      "c:\\users\\79285\\appdata\\local\\programs\\python\\python39\\lib\\site-packages\\pandas\\core\\indexing.py:692: SettingWithCopyWarning: \n",
      "A value is trying to be set on a copy of a slice from a DataFrame\n",
      "\n",
      "See the caveats in the documentation: https://pandas.pydata.org/pandas-docs/stable/user_guide/indexing.html#returning-a-view-versus-a-copy\n",
      "  iloc._setitem_with_indexer(indexer, value, self.name)\n",
      "D:\\quant\\cryptoQuant\\RandomForestDev\\Indicators\\RSI.py:22: SettingWithCopyWarning: \n",
      "A value is trying to be set on a copy of a slice from a DataFrame.\n",
      "Try using .loc[row_indexer,col_indexer] = value instead\n",
      "\n",
      "See the caveats in the documentation: https://pandas.pydata.org/pandas-docs/stable/user_guide/indexing.html#returning-a-view-versus-a-copy\n",
      "  down_df['change_in_price'] = down_df['change_in_price'].abs()\n"
     ]
    },
    {
     "data": {
      "text/plain": "                  rsi  obv_ratio    william        kdj    ema3v8   ema8v21  \\\n2010-02-01  15.538244  -0.623824 -92.001011   7.998989 -0.019589 -0.022083   \n2010-02-02  15.048085  -0.980542 -93.868566   6.131434 -0.018656 -0.023607   \n2010-02-03  38.373944  -0.542147 -69.953008  30.046992 -0.009802 -0.021447   \n2010-02-04  36.930572  -0.975684 -72.204124  27.795876 -0.006059 -0.019822   \n2010-02-05  28.749909  -1.394649 -86.963225  13.036775 -0.009130 -0.020543   \n...               ...        ...        ...        ...       ...       ...   \n2020-07-13  82.081784   0.061934  -3.045546  96.954454  0.027672  0.052191   \n2020-07-14  75.523006   0.046727  -8.678823  91.321177  0.021233  0.050816   \n2020-07-15  64.468616   0.032949 -19.228038  80.771962  0.011992  0.046649   \n2020-07-16  43.591617   0.019543 -49.049347  50.950653 -0.005519  0.036724   \n2020-07-17  44.147855   0.023549 -49.558418  50.441582 -0.011501  0.029129   \n\n            atr_ratio  prediction  \n2010-02-01  -0.138602           0  \n2010-02-02  -0.051319           0  \n2010-02-03   0.208858           0  \n2010-02-04   0.096803           0  \n2010-02-05   0.036451           0  \n...               ...         ...  \n2020-07-13   0.451884           0  \n2020-07-14   0.533566           0  \n2020-07-15   0.658692           0  \n2020-07-16   0.902028           0  \n2020-07-17   0.755356           0  \n\n[2541 rows x 8 columns]",
      "text/html": "<div>\n<style scoped>\n    .dataframe tbody tr th:only-of-type {\n        vertical-align: middle;\n    }\n\n    .dataframe tbody tr th {\n        vertical-align: top;\n    }\n\n    .dataframe thead th {\n        text-align: right;\n    }\n</style>\n<table border=\"1\" class=\"dataframe\">\n  <thead>\n    <tr style=\"text-align: right;\">\n      <th></th>\n      <th>rsi</th>\n      <th>obv_ratio</th>\n      <th>william</th>\n      <th>kdj</th>\n      <th>ema3v8</th>\n      <th>ema8v21</th>\n      <th>atr_ratio</th>\n      <th>prediction</th>\n    </tr>\n  </thead>\n  <tbody>\n    <tr>\n      <th>2010-02-01</th>\n      <td>15.538244</td>\n      <td>-0.623824</td>\n      <td>-92.001011</td>\n      <td>7.998989</td>\n      <td>-0.019589</td>\n      <td>-0.022083</td>\n      <td>-0.138602</td>\n      <td>0</td>\n    </tr>\n    <tr>\n      <th>2010-02-02</th>\n      <td>15.048085</td>\n      <td>-0.980542</td>\n      <td>-93.868566</td>\n      <td>6.131434</td>\n      <td>-0.018656</td>\n      <td>-0.023607</td>\n      <td>-0.051319</td>\n      <td>0</td>\n    </tr>\n    <tr>\n      <th>2010-02-03</th>\n      <td>38.373944</td>\n      <td>-0.542147</td>\n      <td>-69.953008</td>\n      <td>30.046992</td>\n      <td>-0.009802</td>\n      <td>-0.021447</td>\n      <td>0.208858</td>\n      <td>0</td>\n    </tr>\n    <tr>\n      <th>2010-02-04</th>\n      <td>36.930572</td>\n      <td>-0.975684</td>\n      <td>-72.204124</td>\n      <td>27.795876</td>\n      <td>-0.006059</td>\n      <td>-0.019822</td>\n      <td>0.096803</td>\n      <td>0</td>\n    </tr>\n    <tr>\n      <th>2010-02-05</th>\n      <td>28.749909</td>\n      <td>-1.394649</td>\n      <td>-86.963225</td>\n      <td>13.036775</td>\n      <td>-0.009130</td>\n      <td>-0.020543</td>\n      <td>0.036451</td>\n      <td>0</td>\n    </tr>\n    <tr>\n      <th>...</th>\n      <td>...</td>\n      <td>...</td>\n      <td>...</td>\n      <td>...</td>\n      <td>...</td>\n      <td>...</td>\n      <td>...</td>\n      <td>...</td>\n    </tr>\n    <tr>\n      <th>2020-07-13</th>\n      <td>82.081784</td>\n      <td>0.061934</td>\n      <td>-3.045546</td>\n      <td>96.954454</td>\n      <td>0.027672</td>\n      <td>0.052191</td>\n      <td>0.451884</td>\n      <td>0</td>\n    </tr>\n    <tr>\n      <th>2020-07-14</th>\n      <td>75.523006</td>\n      <td>0.046727</td>\n      <td>-8.678823</td>\n      <td>91.321177</td>\n      <td>0.021233</td>\n      <td>0.050816</td>\n      <td>0.533566</td>\n      <td>0</td>\n    </tr>\n    <tr>\n      <th>2020-07-15</th>\n      <td>64.468616</td>\n      <td>0.032949</td>\n      <td>-19.228038</td>\n      <td>80.771962</td>\n      <td>0.011992</td>\n      <td>0.046649</td>\n      <td>0.658692</td>\n      <td>0</td>\n    </tr>\n    <tr>\n      <th>2020-07-16</th>\n      <td>43.591617</td>\n      <td>0.019543</td>\n      <td>-49.049347</td>\n      <td>50.950653</td>\n      <td>-0.005519</td>\n      <td>0.036724</td>\n      <td>0.902028</td>\n      <td>0</td>\n    </tr>\n    <tr>\n      <th>2020-07-17</th>\n      <td>44.147855</td>\n      <td>0.023549</td>\n      <td>-49.558418</td>\n      <td>50.441582</td>\n      <td>-0.011501</td>\n      <td>0.029129</td>\n      <td>0.755356</td>\n      <td>0</td>\n    </tr>\n  </tbody>\n</table>\n<p>2541 rows × 8 columns</p>\n</div>"
     },
     "execution_count": 11,
     "metadata": {},
     "output_type": "execute_result"
    }
   ],
   "source": [
    "from sklearn.metrics import accuracy_score, classification_report\n",
    "from RandomForestDev.TestData import generateTestData\n",
    "from sklearn.ensemble import RandomForestClassifier\n",
    "from sklearn.model_selection import train_test_split\n",
    "import pandas as pd\n",
    "from sklearn.metrics import confusion_matrix\n",
    "\n",
    "data=generateTestData(\"../data/price_data.csv\")\n",
    "data\n"
   ]
  },
  {
   "cell_type": "code",
   "execution_count": 38,
   "outputs": [
    {
     "name": "stdout",
     "output_type": "stream",
     "text": [
      "Correct Prediction (%):  79.87421383647799\n",
      "Accuracy: 0.7987421383647799\n",
      "Percision: 0.5284552845528455\n",
      "Recall: 0.48148148148148145\n",
      "Specificity: 0.8842315369261478\n"
     ]
    }
   ],
   "source": [
    "\n",
    "'''\n",
    "rsi\tobv_ratio\twilliam\tkdj\tema3v8\tema8v21\tatr_ratio\tprediction\n",
    "\n",
    "'''\n",
    "#x_cols = data[['rsi','obv_ratio','william','ema3v8','ema8v21','atr_ratio']]\n",
    "x_cols = data[['rsi','obv_ratio','william','ema3v8','ema8v21','atr_ratio']]\n",
    "y_cols = data['prediction']\n",
    "\n",
    "x_train, x_test, y_train, y_test = train_test_split(x_cols,y_cols,random_state=0,shuffle=False)\n",
    "\n",
    "# Create our Random Forest Classifier\n",
    "random_forest_classifier=RandomForestClassifier(n_estimators=80, oob_score = True, criterion='gini',random_state=50)\n",
    "\n",
    "# fit data to the model\n",
    "random_forest_classifier.fit(x_train,y_train)\n",
    "\n",
    "# make predictions\n",
    "y_pred=random_forest_classifier.predict(x_test)\n",
    "print('Correct Prediction (%): ', accuracy_score(y_test,y_pred,normalize = True)*100.0)\n",
    "\n",
    "#Confusion Matrix\n",
    "\n",
    "\n",
    "rf_matrix = confusion_matrix(y_test, y_pred)\n",
    "\n",
    "true_negatives = rf_matrix[0][0]\n",
    "false_negatives = rf_matrix[1][0]\n",
    "true_positives = rf_matrix[1][1]\n",
    "false_positives = rf_matrix[0][1]\n",
    "\n",
    "accuracy = (true_negatives + true_positives) / (true_negatives + true_positives + false_negatives + false_positives)\n",
    "percision = true_positives / (true_positives + false_positives)\n",
    "recall = true_positives / (true_positives + false_negatives)\n",
    "specificity = true_negatives / (true_negatives + false_positives)\n",
    "\n",
    "print('Accuracy: {}'.format(float(accuracy)))\n",
    "print('Percision: {}'.format(float(percision)))\n",
    "print('Recall: {}'.format(float(recall)))\n",
    "print('Specificity: {}'.format(float(specificity)))"
   ],
   "metadata": {
    "collapsed": false,
    "pycharm": {
     "name": "#%%\n"
    }
   }
  },
  {
   "cell_type": "code",
   "execution_count": 27,
   "outputs": [
    {
     "name": "stdout",
     "output_type": "stream",
     "text": [
      "ema8v21      0.192252\n",
      "rsi          0.191671\n",
      "ema3v8       0.181102\n",
      "william      0.159072\n",
      "obv_ratio    0.138339\n",
      "atr_ratio    0.137563\n",
      "dtype: float64\n"
     ]
    }
   ],
   "source": [
    "feature_imp = pd.Series(random_forest_classifier.feature_importances_, index=x_cols.columns).sort_values(ascending=False)\n",
    "print(feature_imp)"
   ],
   "metadata": {
    "collapsed": false,
    "pycharm": {
     "name": "#%% Feature Importance\n"
    }
   }
  }
 ],
 "metadata": {
  "kernelspec": {
   "display_name": "Python 3",
   "language": "python",
   "name": "python3"
  },
  "language_info": {
   "codemirror_mode": {
    "name": "ipython",
    "version": 2
   },
   "file_extension": ".py",
   "mimetype": "text/x-python",
   "name": "python",
   "nbconvert_exporter": "python",
   "pygments_lexer": "ipython2",
   "version": "2.7.6"
  }
 },
 "nbformat": 4,
 "nbformat_minor": 0
}